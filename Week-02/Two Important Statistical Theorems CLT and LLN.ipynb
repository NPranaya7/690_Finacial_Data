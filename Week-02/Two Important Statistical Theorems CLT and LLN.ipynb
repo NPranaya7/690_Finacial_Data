{
 "cells": [
  {
   "cell_type": "markdown",
   "id": "38051938",
   "metadata": {},
   "source": [
    "# Two Important Statistical Theorems"
   ]
  },
  {
   "cell_type": "markdown",
   "id": "80466007",
   "metadata": {},
   "source": [
    "There are two important theorem in statistics, which are kind of building blocks of many statistical applications. These are `Central Limit Theorem` and `Law of Large Numbers`."
   ]
  },
  {
   "cell_type": "markdown",
   "id": "cdebbeb0",
   "metadata": {},
   "source": [
    "## Central Limit Theorem"
   ]
  },
  {
   "cell_type": "markdown",
   "id": "a1728503",
   "metadata": {},
   "source": [
    "The `central limit theorem` states that, irrespective of the distribution we have at first, if we take sufficiently large random samples (n>30) from the population with replacement, then the distribution of the sample means will be approximately normally distributed. "
   ]
  },
  {
   "cell_type": "markdown",
   "id": "266e04dc",
   "metadata": {},
   "source": [
    "In the context of simulation, the `central limit theorem` tells us that the distribution of the errors will converge to a normal distribution so that we can figure out the number of times we need to resample to achieve a certain accuracy. \n",
    "\n"
   ]
  },
  {
   "cell_type": "markdown",
   "id": "9f0ec00f",
   "metadata": {},
   "source": [
    "By assuming normal distribution of the errors, we have information to calculate the confidence interval and see what sample size is needed for the desired accuracy."
   ]
  },
  {
   "cell_type": "markdown",
   "id": "acebea36",
   "metadata": {},
   "source": [
    "A sequence of random variables Yn converges in distribution to a random variable Z if"
   ]
  },
  {
   "cell_type": "markdown",
   "id": "7f4290ab",
   "metadata": {},
   "source": [
    "\\begin{equation}\n",
    "\\lim_{n \\to \\infty} \\mathbb{P}(Y_n\\leq x) = \\mathbb{P}(Z \\leq x)\n",
    "\\end{equation}"
   ]
  },
  {
   "cell_type": "markdown",
   "id": "919d1b29",
   "metadata": {},
   "source": [
    "for any real number x at which the function $\\mathbb{P}(Z \\leq x)$ is continuous"
   ]
  },
  {
   "cell_type": "markdown",
   "id": "9528febf",
   "metadata": {},
   "source": [
    "If $X_1, X_2, X_4...$  are random samples drawn from a population with overall mean $\\mu$, and if $\\overline{X}$ is the sample mean of the first n samples, then the limiting form of the distribution follows standard normal distribution as follows:"
   ]
  },
  {
   "cell_type": "markdown",
   "id": "3c1adf3e",
   "metadata": {},
   "source": [
    "\\begin{equation}\n",
    "Z = \\lim_{n \\to \\infty} (\\frac{\\overline{X}-\\mu}{\\frac{\\sigma}{\\sqrt{n}}})\n",
    "\\end{equation}"
   ]
  },
  {
   "cell_type": "code",
   "execution_count": 1,
   "id": "de8b53cb",
   "metadata": {},
   "outputs": [],
   "source": [
    "import numpy as np\n",
    "import pandas as pd\n",
    "import matplotlib.pyplot as plt\n",
    "from scipy import stats\n",
    "from scipy.stats import norm\n",
    "from scipy.stats import binom\n",
    "from numpy.random import randint\n",
    "import yfinance as yf\n",
    "import seaborn as sns; sns.set()"
   ]
  },
  {
   "cell_type": "code",
   "execution_count": 11,
   "id": "fadea874",
   "metadata": {},
   "outputs": [
    {
     "data": {
      "image/png": "[encoded data removed]",
      "text/plain": [
       "<Figure size 432x288 with 1 Axes>"
      ]
     },
     "metadata": {},
     "output_type": "display_data"
    }
   ],
   "source": [
    "means = [np.mean(randint(1, 7, 60)) for i in range(10000)]\n",
    "plt.hist(means)\n",
    "plt.show()"
   ]
  },
  {
   "cell_type": "markdown",
   "id": "48c75497",
   "metadata": {},
   "source": [
    "Great! The resulting histogram is normally distributed around a mean of approximately 3.5, indicating that Central Limit theorem is at work."
   ]
  },
  {
   "cell_type": "markdown",
   "id": "08af954d",
   "metadata": {},
   "source": [
    "## Law of Large Numbers"
   ]
  },
  {
   "cell_type": "markdown",
   "id": "59f48fe9",
   "metadata": {},
   "source": [
    "The Law of Large Numbers has an important place in both Statistics / Probability and Machine Learning. This theorem reveals that the sample obtained by taking more samples represents the population better."
   ]
  },
  {
   "cell_type": "markdown",
   "id": "2c12a7a2",
   "metadata": {},
   "source": [
    "According to the law of large numbers, as the sample size grows, the average of the sample approaches the average of the population. This approach tells us the importance of sample size. Simply, the larger the sample size, the better the representative sample population.\n",
    "\n"
   ]
  },
  {
   "cell_type": "markdown",
   "id": "bf3771ca",
   "metadata": {},
   "source": [
    "The Law of Large Numbers is very simple: as the number of samples with a uniform distribution and randomly selected variables increases, the sample mean approaches the theoretical average.\n",
    "\n"
   ]
  },
  {
   "cell_type": "markdown",
   "id": "696fc08f",
   "metadata": {},
   "source": [
    "So, the `Law of Large Number` stresses the importance of large sample size. Accordingly, as we increase the number of sample size, the sample mean becomes very close to the population mean.The Law of Large Numbers therefore explains why casinos make money in the long run."
   ]
  },
  {
   "cell_type": "markdown",
   "id": "136f8f60",
   "metadata": {},
   "source": [
    "The Law of Large Numbers is very simple: as the number of samples with a uniform distribution and randomly selected variables increases, the sample mean approaches the theoretical average.\n",
    "\n",
    "The Law of Large Numbers therefore explains why casinos make money in the long run.\n",
    "\n",
    "Let's see this on a dice sample. As we know in a membrane, there are 6 possibilities, and each probability is equal. This probability is approximately 0.166."
   ]
  },
  {
   "cell_type": "code",
   "execution_count": 20,
   "id": "8d264232",
   "metadata": {},
   "outputs": [
    {
     "data": {
      "text/plain": [
       "5"
      ]
     },
     "execution_count": 20,
     "metadata": {},
     "output_type": "execute_result"
    }
   ],
   "source": [
    "np.random.randint(1, 7, 1)[0]"
   ]
  },
  {
   "cell_type": "code",
   "execution_count": 31,
   "id": "3071ee18",
   "metadata": {},
   "outputs": [],
   "source": [
    "sample = []\n",
    "sample_means = []\n",
    "for number_shots in range(1, 2000):\n",
    "    shot = np.random.randint(1, 7, 1)[0]\n",
    "    sample.append(shot)\n",
    "    sample_means.append(np.mean(sample))"
   ]
  },
  {
   "cell_type": "code",
   "execution_count": 26,
   "id": "c31806f8",
   "metadata": {},
   "outputs": [
    {
     "name": "stdout",
     "output_type": "stream",
     "text": [
      "[3, 5, 5, 5, 3, 2, 4, 3, 4, 1]\n",
      "------------------------------------------------------------\n",
      "[3.0, 4.0, 4.333333333333333, 4.5, 4.2, 3.8333333333333335, 3.857142857142857, 3.75, 3.7777777777777777, 3.5]\n"
     ]
    }
   ],
   "source": [
    "print(sample[:10])\n",
    "print('--'*30)\n",
    "print(sample_means[:10])"
   ]
  },
  {
   "cell_type": "code",
   "execution_count": 34,
   "id": "d104cdba",
   "metadata": {},
   "outputs": [],
   "source": [
    "def sample_plot(sample_means, sample_size, subplot_no):\n",
    "    plt.subplot(subplot_no)\n",
    "    plt.hlines(3.5, 0, sample_size, color='r')\n",
    "    plt.plot(sample_means[0:sample_size])\n",
    "    plt.ylim((1, 6 ))\n",
    "    plt.title('Sample Size={}'.format(sample_size))\n",
    "    plt.xlabel('Sample Size')\n",
    "    plt.ylabel('Sample Mean')\n",
    "    return plt"
   ]
  },
  {
   "cell_type": "code",
   "execution_count": 36,
   "id": "125cff32",
   "metadata": {},
   "outputs": [
    {
     "data": {
      "image/png": "[encoded data removed]",
      "text/plain": [
       "<Figure size 720x432 with 3 Axes>"
      ]
     },
     "metadata": {},
     "output_type": "display_data"
    }
   ],
   "source": [
    "plt.figure(figsize=(10, 6))\n",
    "sample_plot(sample_means, 100, 131)\n",
    "sample_plot(sample_means, 500, 132)\n",
    "sample_plot(sample_means, 10000, 133)\n",
    "plt.show()"
   ]
  },
  {
   "cell_type": "markdown",
   "id": "b37be466",
   "metadata": {},
   "source": [
    "The expected value is 3.5, and as you can see from the graph, when the number of samples is small, the average is not close to 3.5, but as the number of samples increases, it approaches 3.5 on average."
   ]
  },
  {
   "cell_type": "code",
   "execution_count": null,
   "id": "72c16578",
   "metadata": {},
   "outputs": [],
   "source": []
  }
 ],
 "metadata": {
  "kernelspec": {
   "display_name": "Python 3 (ipykernel)",
   "language": "python",
   "name": "python3"
  },
  "language_info": {
   "codemirror_mode": {
    "name": "ipython",
    "version": 3
   },
   "file_extension": ".py",
   "mimetype": "text/x-python",
   "name": "python",
   "nbconvert_exporter": "python",
   "pygments_lexer": "ipython3",
   "version": "3.9.7"
  },
  "latex_envs": {
   "LaTeX_envs_menu_present": true,
   "autoclose": false,
   "autocomplete": true,
   "bibliofile": "biblio.bib",
   "cite_by": "apalike",
   "current_citInitial": 1,
   "eqLabelWithNumbers": true,
   "eqNumInitial": 1,
   "hotkeys": {
    "equation": "Ctrl-E",
    "itemize": "Ctrl-I"
   },
   "labels_anchors": false,
   "latex_user_defs": false,
   "report_style_numbering": false,
   "user_envs_cfg": false
  },
  "toc": {
   "base_numbering": 1,
   "nav_menu": {},
   "number_sections": false,
   "sideBar": true,
   "skip_h1_title": false,
   "title_cell": "Table of Contents",
   "title_sidebar": "Contents",
   "toc_cell": false,
   "toc_position": {},
   "toc_section_display": true,
   "toc_window_display": false
  }
 },
 "nbformat": 4,
 "nbformat_minor": 5
}
