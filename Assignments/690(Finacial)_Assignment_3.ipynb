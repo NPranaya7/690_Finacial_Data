{
  "cells": [
    {
      "cell_type": "markdown",
      "metadata": {
        "id": "3oWDACgErpYi"
      },
      "source": [
        "# Assignment-3\n",
        "Due date Oct. 10"
      ]
    },
    {
      "cell_type": "markdown",
      "source": [
        "- Pranay manikanta Narava\n",
        "- MT50255\n",
        "- Date: 10/09/2022\n"
      ],
      "metadata": {
        "id": "FL69fuVe0Hpl"
      }
    },
    {
      "cell_type": "markdown",
      "metadata": {
        "id": "I71G3SHdrpYl"
      },
      "source": [
        "In this assignment, you are asked to calculate sharpe ratio first with your own code and then employing `PyPortfolioOpt` library using Apple, Amazon, 3M, and Exxon companies. Please see [this website](https://pyportfolioopt.readthedocs.io/en/latest/) for more information about `PyPortfolioOpt`. The daily data covers the period of 2021-01-01 and 2022-01-01. To accomplish this task:\n",
        "\n",
        "* Annualized the daily return and standard deviation for each respective stock.\n",
        "* Draw efficient frontier.\n",
        "* Assume risk free rate to be 0.01.\n",
        "* Calculate the sharpe ratio and interpret which one is the best.\n",
        "\n",
        "Hint: Please use `plot_efficient_frontier` function in `PyPortfolioOpt` to draw efficient frontier.\n",
        "\n",
        "Again, please keep in mind that you are going to accomplish the task first with your own code and using `PyPortfolioOpt` library. Also note that you do not need to get exactly the same result."
      ]
    },
    {
      "cell_type": "code",
      "execution_count": 1,
      "metadata": {
        "colab": {
          "base_uri": "https://localhost:8080/"
        },
        "id": "3DzSw5WcrpYl",
        "outputId": "45222591-6b63-485c-bd78-888a4b345c1e"
      },
      "outputs": [
        {
          "output_type": "stream",
          "name": "stdout",
          "text": [
            "Looking in indexes: https://pypi.org/simple, https://us-python.pkg.dev/colab-wheels/public/simple/\n",
            "Requirement already satisfied: yfinance in /usr/local/lib/python3.7/dist-packages (0.1.77)\n",
            "Requirement already satisfied: requests>=2.26 in /usr/local/lib/python3.7/dist-packages (from yfinance) (2.28.1)\n",
            "Requirement already satisfied: appdirs>=1.4.4 in /usr/local/lib/python3.7/dist-packages (from yfinance) (1.4.4)\n",
            "Requirement already satisfied: pandas>=0.24.0 in /usr/local/lib/python3.7/dist-packages (from yfinance) (1.3.5)\n",
            "Requirement already satisfied: lxml>=4.5.1 in /usr/local/lib/python3.7/dist-packages (from yfinance) (4.9.1)\n",
            "Requirement already satisfied: multitasking>=0.0.7 in /usr/local/lib/python3.7/dist-packages (from yfinance) (0.0.11)\n",
            "Requirement already satisfied: numpy>=1.15 in /usr/local/lib/python3.7/dist-packages (from yfinance) (1.21.6)\n",
            "Requirement already satisfied: python-dateutil>=2.7.3 in /usr/local/lib/python3.7/dist-packages (from pandas>=0.24.0->yfinance) (2.8.2)\n",
            "Requirement already satisfied: pytz>=2017.3 in /usr/local/lib/python3.7/dist-packages (from pandas>=0.24.0->yfinance) (2022.4)\n",
            "Requirement already satisfied: six>=1.5 in /usr/local/lib/python3.7/dist-packages (from python-dateutil>=2.7.3->pandas>=0.24.0->yfinance) (1.15.0)\n",
            "Requirement already satisfied: charset-normalizer<3,>=2 in /usr/local/lib/python3.7/dist-packages (from requests>=2.26->yfinance) (2.1.1)\n",
            "Requirement already satisfied: certifi>=2017.4.17 in /usr/local/lib/python3.7/dist-packages (from requests>=2.26->yfinance) (2022.9.24)\n",
            "Requirement already satisfied: idna<4,>=2.5 in /usr/local/lib/python3.7/dist-packages (from requests>=2.26->yfinance) (2.10)\n",
            "Requirement already satisfied: urllib3<1.27,>=1.21.1 in /usr/local/lib/python3.7/dist-packages (from requests>=2.26->yfinance) (1.24.3)\n"
          ]
        }
      ],
      "source": [
        "!pip3 install yfinance"
      ]
    },
    {
      "cell_type": "code",
      "source": [
        "import pandas as pd\n",
        "import matplotlib.pyplot as plt\n",
        "import numpy as np\n",
        "import datetime\n",
        "import seaborn as sns\n",
        "import warnings\n",
        "import yfinance as yf\n",
        "import seaborn as sns; sns.set()\n",
        "yf.pdr_override() \n",
        "%matplotlib inline\n",
        "warnings.filterwarnings('ignore')"
      ],
      "metadata": {
        "id": "xN5dgCSQ5AT4"
      },
      "execution_count": 2,
      "outputs": []
    },
    {
      "cell_type": "markdown",
      "source": [
        "## Annualized the daily return and standard deviation for each respective stock."
      ],
      "metadata": {
        "id": "Ax_XYsEP8OBf"
      }
    },
    {
      "cell_type": "code",
      "source": [
        "stocks = ['AAPL', 'AMZN','MMM','XOM']\n",
        "start = datetime.datetime(2021, 1, 1)\n",
        "end = datetime.datetime(2022, 1, 1)\n",
        "stock_price = yf.download(stocks, start=start, end=end, interval='1d')"
      ],
      "metadata": {
        "colab": {
          "base_uri": "https://localhost:8080/"
        },
        "id": "YX_pRLYI5Dcp",
        "outputId": "2a5453c1-12cb-42f7-a9b5-06e32c33c800"
      },
      "execution_count": 3,
      "outputs": [
        {
          "output_type": "stream",
          "name": "stdout",
          "text": [
            "[*********************100%***********************]  4 of 4 completed\n"
          ]
        }
      ]
    },
    {
      "cell_type": "code",
      "source": [
        "stock_price.head()"
      ],
      "metadata": {
        "colab": {
          "base_uri": "https://localhost:8080/",
          "height": 603
        },
        "id": "E_tuo6z35ewJ",
        "outputId": "f6d2060c-0aa1-4f15-dcc6-527beef5beab"
      },
      "execution_count": 4,
      "outputs": [
        {
          "output_type": "execute_result",
          "data": {
            "text/plain": [
              "                            Adj Close                                     \\\n",
              "                                 AAPL        AMZN         MMM        XOM   \n",
              "Date                                                                       \n",
              "2021-01-04 00:00:00-05:00  128.087082  159.331497  161.677658  37.906910   \n",
              "2021-01-05 00:00:00-05:00  129.670715  160.925507  161.404877  39.733749   \n",
              "2021-01-06 00:00:00-05:00  125.305794  156.919006  163.860092  40.747643   \n",
              "2021-01-07 00:00:00-05:00  129.581635  158.108002  159.655167  41.067345   \n",
              "2021-01-08 00:00:00-05:00  130.700073  159.134995  156.738998  41.524048   \n",
              "\n",
              "                                Close                                     \\\n",
              "                                 AAPL        AMZN         MMM        XOM   \n",
              "Date                                                                       \n",
              "2021-01-04 00:00:00-05:00  129.410004  159.331497  171.869995  41.500000   \n",
              "2021-01-05 00:00:00-05:00  131.009995  160.925507  171.580002  43.500000   \n",
              "2021-01-06 00:00:00-05:00  126.599998  156.919006  174.190002  44.610001   \n",
              "2021-01-07 00:00:00-05:00  130.919998  158.108002  169.720001  44.959999   \n",
              "2021-01-08 00:00:00-05:00  132.050003  159.134995  166.619995  45.459999   \n",
              "\n",
              "                                 High              ...         Low             \\\n",
              "                                 AAPL        AMZN  ...         MMM        XOM   \n",
              "Date                                               ...                          \n",
              "2021-01-04 00:00:00-05:00  133.610001  163.600006  ...  170.550003  41.000000   \n",
              "2021-01-05 00:00:00-05:00  131.740005  161.169006  ...  170.649994  41.830002   \n",
              "2021-01-06 00:00:00-05:00  131.050003  159.875504  ...  172.039993  43.700001   \n",
              "2021-01-07 00:00:00-05:00  131.630005  160.427002  ...  166.160004  44.529999   \n",
              "2021-01-08 00:00:00-05:00  132.630005  159.531998  ...  164.610001  44.950001   \n",
              "\n",
              "                                 Open                                     \\\n",
              "                                 AAPL        AMZN         MMM        XOM   \n",
              "Date                                                                       \n",
              "2021-01-04 00:00:00-05:00  133.520004  163.500000  175.000000  41.450001   \n",
              "2021-01-05 00:00:00-05:00  128.889999  158.300507  172.009995  41.840000   \n",
              "2021-01-06 00:00:00-05:00  127.720001  157.324005  172.720001  44.410000   \n",
              "2021-01-07 00:00:00-05:00  128.360001  157.850006  171.559998  45.000000   \n",
              "2021-01-08 00:00:00-05:00  132.429993  159.000000  169.169998  45.200001   \n",
              "\n",
              "                              Volume                               \n",
              "                                AAPL      AMZN      MMM       XOM  \n",
              "Date                                                               \n",
              "2021-01-04 00:00:00-05:00  143301900  88228000  2996200  27764700  \n",
              "2021-01-05 00:00:00-05:00   97664900  53110000  2295300  44035100  \n",
              "2021-01-06 00:00:00-05:00  155088000  87896000  3346400  36484800  \n",
              "2021-01-07 00:00:00-05:00  109578200  70290000  5863400  29528100  \n",
              "2021-01-08 00:00:00-05:00  105158200  70754000  4808100  28628200  \n",
              "\n",
              "[5 rows x 24 columns]"
            ],
            "text/html": [
              "\n",
              "  <div id=\"df-90727666-d345-4204-91ad-80f26f09ecc5\">\n",
              "    <div class=\"colab-df-container\">\n",
              "      <div>\n",
              "<style scoped>\n",
              "    .dataframe tbody tr th:only-of-type {\n",
              "        vertical-align: middle;\n",
              "    }\n",
              "\n",
              "    .dataframe tbody tr th {\n",
              "        vertical-align: top;\n",
              "    }\n",
              "\n",
              "    .dataframe thead tr th {\n",
              "        text-align: left;\n",
              "    }\n",
              "\n",
              "    .dataframe thead tr:last-of-type th {\n",
              "        text-align: right;\n",
              "    }\n",
              "</style>\n",
              "<table border=\"1\" class=\"dataframe\">\n",
              "  <thead>\n",
              "    <tr>\n",
              "      <th></th>\n",
              "      <th colspan=\"4\" halign=\"left\">Adj Close</th>\n",
              "      <th colspan=\"4\" halign=\"left\">Close</th>\n",
              "      <th colspan=\"2\" halign=\"left\">High</th>\n",
              "      <th>...</th>\n",
              "      <th colspan=\"2\" halign=\"left\">Low</th>\n",
              "      <th colspan=\"4\" halign=\"left\">Open</th>\n",
              "      <th colspan=\"4\" halign=\"left\">Volume</th>\n",
              "    </tr>\n",
              "    <tr>\n",
              "      <th></th>\n",
              "      <th>AAPL</th>\n",
              "      <th>AMZN</th>\n",
              "      <th>MMM</th>\n",
              "      <th>XOM</th>\n",
              "      <th>AAPL</th>\n",
              "      <th>AMZN</th>\n",
              "      <th>MMM</th>\n",
              "      <th>XOM</th>\n",
              "      <th>AAPL</th>\n",
              "      <th>AMZN</th>\n",
              "      <th>...</th>\n",
              "      <th>MMM</th>\n",
              "      <th>XOM</th>\n",
              "      <th>AAPL</th>\n",
              "      <th>AMZN</th>\n",
              "      <th>MMM</th>\n",
              "      <th>XOM</th>\n",
              "      <th>AAPL</th>\n",
              "      <th>AMZN</th>\n",
              "      <th>MMM</th>\n",
              "      <th>XOM</th>\n",
              "    </tr>\n",
              "    <tr>\n",
              "      <th>Date</th>\n",
              "      <th></th>\n",
              "      <th></th>\n",
              "      <th></th>\n",
              "      <th></th>\n",
              "      <th></th>\n",
              "      <th></th>\n",
              "      <th></th>\n",
              "      <th></th>\n",
              "      <th></th>\n",
              "      <th></th>\n",
              "      <th></th>\n",
              "      <th></th>\n",
              "      <th></th>\n",
              "      <th></th>\n",
              "      <th></th>\n",
              "      <th></th>\n",
              "      <th></th>\n",
              "      <th></th>\n",
              "      <th></th>\n",
              "      <th></th>\n",
              "      <th></th>\n",
              "    </tr>\n",
              "  </thead>\n",
              "  <tbody>\n",
              "    <tr>\n",
              "      <th>2021-01-04 00:00:00-05:00</th>\n",
              "      <td>128.087082</td>\n",
              "      <td>159.331497</td>\n",
              "      <td>161.677658</td>\n",
              "      <td>37.906910</td>\n",
              "      <td>129.410004</td>\n",
              "      <td>159.331497</td>\n",
              "      <td>171.869995</td>\n",
              "      <td>41.500000</td>\n",
              "      <td>133.610001</td>\n",
              "      <td>163.600006</td>\n",
              "      <td>...</td>\n",
              "      <td>170.550003</td>\n",
              "      <td>41.000000</td>\n",
              "      <td>133.520004</td>\n",
              "      <td>163.500000</td>\n",
              "      <td>175.000000</td>\n",
              "      <td>41.450001</td>\n",
              "      <td>143301900</td>\n",
              "      <td>88228000</td>\n",
              "      <td>2996200</td>\n",
              "      <td>27764700</td>\n",
              "    </tr>\n",
              "    <tr>\n",
              "      <th>2021-01-05 00:00:00-05:00</th>\n",
              "      <td>129.670715</td>\n",
              "      <td>160.925507</td>\n",
              "      <td>161.404877</td>\n",
              "      <td>39.733749</td>\n",
              "      <td>131.009995</td>\n",
              "      <td>160.925507</td>\n",
              "      <td>171.580002</td>\n",
              "      <td>43.500000</td>\n",
              "      <td>131.740005</td>\n",
              "      <td>161.169006</td>\n",
              "      <td>...</td>\n",
              "      <td>170.649994</td>\n",
              "      <td>41.830002</td>\n",
              "      <td>128.889999</td>\n",
              "      <td>158.300507</td>\n",
              "      <td>172.009995</td>\n",
              "      <td>41.840000</td>\n",
              "      <td>97664900</td>\n",
              "      <td>53110000</td>\n",
              "      <td>2295300</td>\n",
              "      <td>44035100</td>\n",
              "    </tr>\n",
              "    <tr>\n",
              "      <th>2021-01-06 00:00:00-05:00</th>\n",
              "      <td>125.305794</td>\n",
              "      <td>156.919006</td>\n",
              "      <td>163.860092</td>\n",
              "      <td>40.747643</td>\n",
              "      <td>126.599998</td>\n",
              "      <td>156.919006</td>\n",
              "      <td>174.190002</td>\n",
              "      <td>44.610001</td>\n",
              "      <td>131.050003</td>\n",
              "      <td>159.875504</td>\n",
              "      <td>...</td>\n",
              "      <td>172.039993</td>\n",
              "      <td>43.700001</td>\n",
              "      <td>127.720001</td>\n",
              "      <td>157.324005</td>\n",
              "      <td>172.720001</td>\n",
              "      <td>44.410000</td>\n",
              "      <td>155088000</td>\n",
              "      <td>87896000</td>\n",
              "      <td>3346400</td>\n",
              "      <td>36484800</td>\n",
              "    </tr>\n",
              "    <tr>\n",
              "      <th>2021-01-07 00:00:00-05:00</th>\n",
              "      <td>129.581635</td>\n",
              "      <td>158.108002</td>\n",
              "      <td>159.655167</td>\n",
              "      <td>41.067345</td>\n",
              "      <td>130.919998</td>\n",
              "      <td>158.108002</td>\n",
              "      <td>169.720001</td>\n",
              "      <td>44.959999</td>\n",
              "      <td>131.630005</td>\n",
              "      <td>160.427002</td>\n",
              "      <td>...</td>\n",
              "      <td>166.160004</td>\n",
              "      <td>44.529999</td>\n",
              "      <td>128.360001</td>\n",
              "      <td>157.850006</td>\n",
              "      <td>171.559998</td>\n",
              "      <td>45.000000</td>\n",
              "      <td>109578200</td>\n",
              "      <td>70290000</td>\n",
              "      <td>5863400</td>\n",
              "      <td>29528100</td>\n",
              "    </tr>\n",
              "    <tr>\n",
              "      <th>2021-01-08 00:00:00-05:00</th>\n",
              "      <td>130.700073</td>\n",
              "      <td>159.134995</td>\n",
              "      <td>156.738998</td>\n",
              "      <td>41.524048</td>\n",
              "      <td>132.050003</td>\n",
              "      <td>159.134995</td>\n",
              "      <td>166.619995</td>\n",
              "      <td>45.459999</td>\n",
              "      <td>132.630005</td>\n",
              "      <td>159.531998</td>\n",
              "      <td>...</td>\n",
              "      <td>164.610001</td>\n",
              "      <td>44.950001</td>\n",
              "      <td>132.429993</td>\n",
              "      <td>159.000000</td>\n",
              "      <td>169.169998</td>\n",
              "      <td>45.200001</td>\n",
              "      <td>105158200</td>\n",
              "      <td>70754000</td>\n",
              "      <td>4808100</td>\n",
              "      <td>28628200</td>\n",
              "    </tr>\n",
              "  </tbody>\n",
              "</table>\n",
              "<p>5 rows × 24 columns</p>\n",
              "</div>\n",
              "      <button class=\"colab-df-convert\" onclick=\"convertToInteractive('df-90727666-d345-4204-91ad-80f26f09ecc5')\"\n",
              "              title=\"Convert this dataframe to an interactive table.\"\n",
              "              style=\"display:none;\">\n",
              "        \n",
              "  <svg xmlns=\"http://www.w3.org/2000/svg\" height=\"24px\"viewBox=\"0 0 24 24\"\n",
              "       width=\"24px\">\n",
              "    <path d=\"M0 0h24v24H0V0z\" fill=\"none\"/>\n",
              "    <path d=\"M18.56 5.44l.94 2.06.94-2.06 2.06-.94-2.06-.94-.94-2.06-.94 2.06-2.06.94zm-11 1L8.5 8.5l.94-2.06 2.06-.94-2.06-.94L8.5 2.5l-.94 2.06-2.06.94zm10 10l.94 2.06.94-2.06 2.06-.94-2.06-.94-.94-2.06-.94 2.06-2.06.94z\"/><path d=\"M17.41 7.96l-1.37-1.37c-.4-.4-.92-.59-1.43-.59-.52 0-1.04.2-1.43.59L10.3 9.45l-7.72 7.72c-.78.78-.78 2.05 0 2.83L4 21.41c.39.39.9.59 1.41.59.51 0 1.02-.2 1.41-.59l7.78-7.78 2.81-2.81c.8-.78.8-2.07 0-2.86zM5.41 20L4 18.59l7.72-7.72 1.47 1.35L5.41 20z\"/>\n",
              "  </svg>\n",
              "      </button>\n",
              "      \n",
              "  <style>\n",
              "    .colab-df-container {\n",
              "      display:flex;\n",
              "      flex-wrap:wrap;\n",
              "      gap: 12px;\n",
              "    }\n",
              "\n",
              "    .colab-df-convert {\n",
              "      background-color: #E8F0FE;\n",
              "      border: none;\n",
              "      border-radius: 50%;\n",
              "      cursor: pointer;\n",
              "      display: none;\n",
              "      fill: #1967D2;\n",
              "      height: 32px;\n",
              "      padding: 0 0 0 0;\n",
              "      width: 32px;\n",
              "    }\n",
              "\n",
              "    .colab-df-convert:hover {\n",
              "      background-color: #E2EBFA;\n",
              "      box-shadow: 0px 1px 2px rgba(60, 64, 67, 0.3), 0px 1px 3px 1px rgba(60, 64, 67, 0.15);\n",
              "      fill: #174EA6;\n",
              "    }\n",
              "\n",
              "    [theme=dark] .colab-df-convert {\n",
              "      background-color: #3B4455;\n",
              "      fill: #D2E3FC;\n",
              "    }\n",
              "\n",
              "    [theme=dark] .colab-df-convert:hover {\n",
              "      background-color: #434B5C;\n",
              "      box-shadow: 0px 1px 3px 1px rgba(0, 0, 0, 0.15);\n",
              "      filter: drop-shadow(0px 1px 2px rgba(0, 0, 0, 0.3));\n",
              "      fill: #FFFFFF;\n",
              "    }\n",
              "  </style>\n",
              "\n",
              "      <script>\n",
              "        const buttonEl =\n",
              "          document.querySelector('#df-90727666-d345-4204-91ad-80f26f09ecc5 button.colab-df-convert');\n",
              "        buttonEl.style.display =\n",
              "          google.colab.kernel.accessAllowed ? 'block' : 'none';\n",
              "\n",
              "        async function convertToInteractive(key) {\n",
              "          const element = document.querySelector('#df-90727666-d345-4204-91ad-80f26f09ecc5');\n",
              "          const dataTable =\n",
              "            await google.colab.kernel.invokeFunction('convertToInteractive',\n",
              "                                                     [key], {});\n",
              "          if (!dataTable) return;\n",
              "\n",
              "          const docLinkHtml = 'Like what you see? Visit the ' +\n",
              "            '<a target=\"_blank\" href=https://colab.research.google.com/notebooks/data_table.ipynb>data table notebook</a>'\n",
              "            + ' to learn more about interactive tables.';\n",
              "          element.innerHTML = '';\n",
              "          dataTable['output_type'] = 'display_data';\n",
              "          await google.colab.output.renderOutput(dataTable, element);\n",
              "          const docLink = document.createElement('div');\n",
              "          docLink.innerHTML = docLinkHtml;\n",
              "          element.appendChild(docLink);\n",
              "        }\n",
              "      </script>\n",
              "    </div>\n",
              "  </div>\n",
              "  "
            ]
          },
          "metadata": {},
          "execution_count": 4
        }
      ]
    },
    {
      "cell_type": "code",
      "source": [
        "stock_price = stock_price['Close']"
      ],
      "metadata": {
        "id": "NkXFow315hIE"
      },
      "execution_count": 5,
      "outputs": []
    },
    {
      "cell_type": "code",
      "source": [
        "stock_price.head()"
      ],
      "metadata": {
        "colab": {
          "base_uri": "https://localhost:8080/",
          "height": 238
        },
        "id": "LzFHhulj5nNZ",
        "outputId": "7fc8214d-8cb9-47a9-d604-fd665d2fdc54"
      },
      "execution_count": 6,
      "outputs": [
        {
          "output_type": "execute_result",
          "data": {
            "text/plain": [
              "                                 AAPL        AMZN         MMM        XOM\n",
              "Date                                                                    \n",
              "2021-01-04 00:00:00-05:00  129.410004  159.331497  171.869995  41.500000\n",
              "2021-01-05 00:00:00-05:00  131.009995  160.925507  171.580002  43.500000\n",
              "2021-01-06 00:00:00-05:00  126.599998  156.919006  174.190002  44.610001\n",
              "2021-01-07 00:00:00-05:00  130.919998  158.108002  169.720001  44.959999\n",
              "2021-01-08 00:00:00-05:00  132.050003  159.134995  166.619995  45.459999"
            ],
            "text/html": [
              "\n",
              "  <div id=\"df-8cc9f114-9af7-4ae4-b380-847c3893bb58\">\n",
              "    <div class=\"colab-df-container\">\n",
              "      <div>\n",
              "<style scoped>\n",
              "    .dataframe tbody tr th:only-of-type {\n",
              "        vertical-align: middle;\n",
              "    }\n",
              "\n",
              "    .dataframe tbody tr th {\n",
              "        vertical-align: top;\n",
              "    }\n",
              "\n",
              "    .dataframe thead th {\n",
              "        text-align: right;\n",
              "    }\n",
              "</style>\n",
              "<table border=\"1\" class=\"dataframe\">\n",
              "  <thead>\n",
              "    <tr style=\"text-align: right;\">\n",
              "      <th></th>\n",
              "      <th>AAPL</th>\n",
              "      <th>AMZN</th>\n",
              "      <th>MMM</th>\n",
              "      <th>XOM</th>\n",
              "    </tr>\n",
              "    <tr>\n",
              "      <th>Date</th>\n",
              "      <th></th>\n",
              "      <th></th>\n",
              "      <th></th>\n",
              "      <th></th>\n",
              "    </tr>\n",
              "  </thead>\n",
              "  <tbody>\n",
              "    <tr>\n",
              "      <th>2021-01-04 00:00:00-05:00</th>\n",
              "      <td>129.410004</td>\n",
              "      <td>159.331497</td>\n",
              "      <td>171.869995</td>\n",
              "      <td>41.500000</td>\n",
              "    </tr>\n",
              "    <tr>\n",
              "      <th>2021-01-05 00:00:00-05:00</th>\n",
              "      <td>131.009995</td>\n",
              "      <td>160.925507</td>\n",
              "      <td>171.580002</td>\n",
              "      <td>43.500000</td>\n",
              "    </tr>\n",
              "    <tr>\n",
              "      <th>2021-01-06 00:00:00-05:00</th>\n",
              "      <td>126.599998</td>\n",
              "      <td>156.919006</td>\n",
              "      <td>174.190002</td>\n",
              "      <td>44.610001</td>\n",
              "    </tr>\n",
              "    <tr>\n",
              "      <th>2021-01-07 00:00:00-05:00</th>\n",
              "      <td>130.919998</td>\n",
              "      <td>158.108002</td>\n",
              "      <td>169.720001</td>\n",
              "      <td>44.959999</td>\n",
              "    </tr>\n",
              "    <tr>\n",
              "      <th>2021-01-08 00:00:00-05:00</th>\n",
              "      <td>132.050003</td>\n",
              "      <td>159.134995</td>\n",
              "      <td>166.619995</td>\n",
              "      <td>45.459999</td>\n",
              "    </tr>\n",
              "  </tbody>\n",
              "</table>\n",
              "</div>\n",
              "      <button class=\"colab-df-convert\" onclick=\"convertToInteractive('df-8cc9f114-9af7-4ae4-b380-847c3893bb58')\"\n",
              "              title=\"Convert this dataframe to an interactive table.\"\n",
              "              style=\"display:none;\">\n",
              "        \n",
              "  <svg xmlns=\"http://www.w3.org/2000/svg\" height=\"24px\"viewBox=\"0 0 24 24\"\n",
              "       width=\"24px\">\n",
              "    <path d=\"M0 0h24v24H0V0z\" fill=\"none\"/>\n",
              "    <path d=\"M18.56 5.44l.94 2.06.94-2.06 2.06-.94-2.06-.94-.94-2.06-.94 2.06-2.06.94zm-11 1L8.5 8.5l.94-2.06 2.06-.94-2.06-.94L8.5 2.5l-.94 2.06-2.06.94zm10 10l.94 2.06.94-2.06 2.06-.94-2.06-.94-.94-2.06-.94 2.06-2.06.94z\"/><path d=\"M17.41 7.96l-1.37-1.37c-.4-.4-.92-.59-1.43-.59-.52 0-1.04.2-1.43.59L10.3 9.45l-7.72 7.72c-.78.78-.78 2.05 0 2.83L4 21.41c.39.39.9.59 1.41.59.51 0 1.02-.2 1.41-.59l7.78-7.78 2.81-2.81c.8-.78.8-2.07 0-2.86zM5.41 20L4 18.59l7.72-7.72 1.47 1.35L5.41 20z\"/>\n",
              "  </svg>\n",
              "      </button>\n",
              "      \n",
              "  <style>\n",
              "    .colab-df-container {\n",
              "      display:flex;\n",
              "      flex-wrap:wrap;\n",
              "      gap: 12px;\n",
              "    }\n",
              "\n",
              "    .colab-df-convert {\n",
              "      background-color: #E8F0FE;\n",
              "      border: none;\n",
              "      border-radius: 50%;\n",
              "      cursor: pointer;\n",
              "      display: none;\n",
              "      fill: #1967D2;\n",
              "      height: 32px;\n",
              "      padding: 0 0 0 0;\n",
              "      width: 32px;\n",
              "    }\n",
              "\n",
              "    .colab-df-convert:hover {\n",
              "      background-color: #E2EBFA;\n",
              "      box-shadow: 0px 1px 2px rgba(60, 64, 67, 0.3), 0px 1px 3px 1px rgba(60, 64, 67, 0.15);\n",
              "      fill: #174EA6;\n",
              "    }\n",
              "\n",
              "    [theme=dark] .colab-df-convert {\n",
              "      background-color: #3B4455;\n",
              "      fill: #D2E3FC;\n",
              "    }\n",
              "\n",
              "    [theme=dark] .colab-df-convert:hover {\n",
              "      background-color: #434B5C;\n",
              "      box-shadow: 0px 1px 3px 1px rgba(0, 0, 0, 0.15);\n",
              "      filter: drop-shadow(0px 1px 2px rgba(0, 0, 0, 0.3));\n",
              "      fill: #FFFFFF;\n",
              "    }\n",
              "  </style>\n",
              "\n",
              "      <script>\n",
              "        const buttonEl =\n",
              "          document.querySelector('#df-8cc9f114-9af7-4ae4-b380-847c3893bb58 button.colab-df-convert');\n",
              "        buttonEl.style.display =\n",
              "          google.colab.kernel.accessAllowed ? 'block' : 'none';\n",
              "\n",
              "        async function convertToInteractive(key) {\n",
              "          const element = document.querySelector('#df-8cc9f114-9af7-4ae4-b380-847c3893bb58');\n",
              "          const dataTable =\n",
              "            await google.colab.kernel.invokeFunction('convertToInteractive',\n",
              "                                                     [key], {});\n",
              "          if (!dataTable) return;\n",
              "\n",
              "          const docLinkHtml = 'Like what you see? Visit the ' +\n",
              "            '<a target=\"_blank\" href=https://colab.research.google.com/notebooks/data_table.ipynb>data table notebook</a>'\n",
              "            + ' to learn more about interactive tables.';\n",
              "          element.innerHTML = '';\n",
              "          dataTable['output_type'] = 'display_data';\n",
              "          await google.colab.output.renderOutput(dataTable, element);\n",
              "          const docLink = document.createElement('div');\n",
              "          docLink.innerHTML = docLinkHtml;\n",
              "          element.appendChild(docLink);\n",
              "        }\n",
              "      </script>\n",
              "    </div>\n",
              "  </div>\n",
              "  "
            ]
          },
          "metadata": {},
          "execution_count": 6
        }
      ]
    },
    {
      "cell_type": "code",
      "source": [
        "stock_price.describe()"
      ],
      "metadata": {
        "colab": {
          "base_uri": "https://localhost:8080/",
          "height": 300
        },
        "id": "U6mcy2pp5ofr",
        "outputId": "41541c42-8669-49c4-f5af-1278dccc9226"
      },
      "execution_count": 7,
      "outputs": [
        {
          "output_type": "execute_result",
          "data": {
            "text/plain": [
              "             AAPL        AMZN         MMM         XOM\n",
              "count  252.000000  252.000000  252.000000  252.000000\n",
              "mean   140.989365  167.193349  187.698810   57.963651\n",
              "std     14.659580    8.002098   11.129615    5.017095\n",
              "min    116.360001  147.597504  165.199997   41.500000\n",
              "25%    128.962498  161.681870  177.760002   55.545001\n",
              "50%    141.305000  167.061501  185.404999   58.830000\n",
              "75%    148.962505  172.418747  198.272503   61.565001\n",
              "max    180.330002  186.570496  207.330002   66.360001"
            ],
            "text/html": [
              "\n",
              "  <div id=\"df-05109f2b-6114-4924-ba27-9eddb72411b8\">\n",
              "    <div class=\"colab-df-container\">\n",
              "      <div>\n",
              "<style scoped>\n",
              "    .dataframe tbody tr th:only-of-type {\n",
              "        vertical-align: middle;\n",
              "    }\n",
              "\n",
              "    .dataframe tbody tr th {\n",
              "        vertical-align: top;\n",
              "    }\n",
              "\n",
              "    .dataframe thead th {\n",
              "        text-align: right;\n",
              "    }\n",
              "</style>\n",
              "<table border=\"1\" class=\"dataframe\">\n",
              "  <thead>\n",
              "    <tr style=\"text-align: right;\">\n",
              "      <th></th>\n",
              "      <th>AAPL</th>\n",
              "      <th>AMZN</th>\n",
              "      <th>MMM</th>\n",
              "      <th>XOM</th>\n",
              "    </tr>\n",
              "  </thead>\n",
              "  <tbody>\n",
              "    <tr>\n",
              "      <th>count</th>\n",
              "      <td>252.000000</td>\n",
              "      <td>252.000000</td>\n",
              "      <td>252.000000</td>\n",
              "      <td>252.000000</td>\n",
              "    </tr>\n",
              "    <tr>\n",
              "      <th>mean</th>\n",
              "      <td>140.989365</td>\n",
              "      <td>167.193349</td>\n",
              "      <td>187.698810</td>\n",
              "      <td>57.963651</td>\n",
              "    </tr>\n",
              "    <tr>\n",
              "      <th>std</th>\n",
              "      <td>14.659580</td>\n",
              "      <td>8.002098</td>\n",
              "      <td>11.129615</td>\n",
              "      <td>5.017095</td>\n",
              "    </tr>\n",
              "    <tr>\n",
              "      <th>min</th>\n",
              "      <td>116.360001</td>\n",
              "      <td>147.597504</td>\n",
              "      <td>165.199997</td>\n",
              "      <td>41.500000</td>\n",
              "    </tr>\n",
              "    <tr>\n",
              "      <th>25%</th>\n",
              "      <td>128.962498</td>\n",
              "      <td>161.681870</td>\n",
              "      <td>177.760002</td>\n",
              "      <td>55.545001</td>\n",
              "    </tr>\n",
              "    <tr>\n",
              "      <th>50%</th>\n",
              "      <td>141.305000</td>\n",
              "      <td>167.061501</td>\n",
              "      <td>185.404999</td>\n",
              "      <td>58.830000</td>\n",
              "    </tr>\n",
              "    <tr>\n",
              "      <th>75%</th>\n",
              "      <td>148.962505</td>\n",
              "      <td>172.418747</td>\n",
              "      <td>198.272503</td>\n",
              "      <td>61.565001</td>\n",
              "    </tr>\n",
              "    <tr>\n",
              "      <th>max</th>\n",
              "      <td>180.330002</td>\n",
              "      <td>186.570496</td>\n",
              "      <td>207.330002</td>\n",
              "      <td>66.360001</td>\n",
              "    </tr>\n",
              "  </tbody>\n",
              "</table>\n",
              "</div>\n",
              "      <button class=\"colab-df-convert\" onclick=\"convertToInteractive('df-05109f2b-6114-4924-ba27-9eddb72411b8')\"\n",
              "              title=\"Convert this dataframe to an interactive table.\"\n",
              "              style=\"display:none;\">\n",
              "        \n",
              "  <svg xmlns=\"http://www.w3.org/2000/svg\" height=\"24px\"viewBox=\"0 0 24 24\"\n",
              "       width=\"24px\">\n",
              "    <path d=\"M0 0h24v24H0V0z\" fill=\"none\"/>\n",
              "    <path d=\"M18.56 5.44l.94 2.06.94-2.06 2.06-.94-2.06-.94-.94-2.06-.94 2.06-2.06.94zm-11 1L8.5 8.5l.94-2.06 2.06-.94-2.06-.94L8.5 2.5l-.94 2.06-2.06.94zm10 10l.94 2.06.94-2.06 2.06-.94-2.06-.94-.94-2.06-.94 2.06-2.06.94z\"/><path d=\"M17.41 7.96l-1.37-1.37c-.4-.4-.92-.59-1.43-.59-.52 0-1.04.2-1.43.59L10.3 9.45l-7.72 7.72c-.78.78-.78 2.05 0 2.83L4 21.41c.39.39.9.59 1.41.59.51 0 1.02-.2 1.41-.59l7.78-7.78 2.81-2.81c.8-.78.8-2.07 0-2.86zM5.41 20L4 18.59l7.72-7.72 1.47 1.35L5.41 20z\"/>\n",
              "  </svg>\n",
              "      </button>\n",
              "      \n",
              "  <style>\n",
              "    .colab-df-container {\n",
              "      display:flex;\n",
              "      flex-wrap:wrap;\n",
              "      gap: 12px;\n",
              "    }\n",
              "\n",
              "    .colab-df-convert {\n",
              "      background-color: #E8F0FE;\n",
              "      border: none;\n",
              "      border-radius: 50%;\n",
              "      cursor: pointer;\n",
              "      display: none;\n",
              "      fill: #1967D2;\n",
              "      height: 32px;\n",
              "      padding: 0 0 0 0;\n",
              "      width: 32px;\n",
              "    }\n",
              "\n",
              "    .colab-df-convert:hover {\n",
              "      background-color: #E2EBFA;\n",
              "      box-shadow: 0px 1px 2px rgba(60, 64, 67, 0.3), 0px 1px 3px 1px rgba(60, 64, 67, 0.15);\n",
              "      fill: #174EA6;\n",
              "    }\n",
              "\n",
              "    [theme=dark] .colab-df-convert {\n",
              "      background-color: #3B4455;\n",
              "      fill: #D2E3FC;\n",
              "    }\n",
              "\n",
              "    [theme=dark] .colab-df-convert:hover {\n",
              "      background-color: #434B5C;\n",
              "      box-shadow: 0px 1px 3px 1px rgba(0, 0, 0, 0.15);\n",
              "      filter: drop-shadow(0px 1px 2px rgba(0, 0, 0, 0.3));\n",
              "      fill: #FFFFFF;\n",
              "    }\n",
              "  </style>\n",
              "\n",
              "      <script>\n",
              "        const buttonEl =\n",
              "          document.querySelector('#df-05109f2b-6114-4924-ba27-9eddb72411b8 button.colab-df-convert');\n",
              "        buttonEl.style.display =\n",
              "          google.colab.kernel.accessAllowed ? 'block' : 'none';\n",
              "\n",
              "        async function convertToInteractive(key) {\n",
              "          const element = document.querySelector('#df-05109f2b-6114-4924-ba27-9eddb72411b8');\n",
              "          const dataTable =\n",
              "            await google.colab.kernel.invokeFunction('convertToInteractive',\n",
              "                                                     [key], {});\n",
              "          if (!dataTable) return;\n",
              "\n",
              "          const docLinkHtml = 'Like what you see? Visit the ' +\n",
              "            '<a target=\"_blank\" href=https://colab.research.google.com/notebooks/data_table.ipynb>data table notebook</a>'\n",
              "            + ' to learn more about interactive tables.';\n",
              "          element.innerHTML = '';\n",
              "          dataTable['output_type'] = 'display_data';\n",
              "          await google.colab.output.renderOutput(dataTable, element);\n",
              "          const docLink = document.createElement('div');\n",
              "          docLink.innerHTML = docLinkHtml;\n",
              "          element.appendChild(docLink);\n",
              "        }\n",
              "      </script>\n",
              "    </div>\n",
              "  </div>\n",
              "  "
            ]
          },
          "metadata": {},
          "execution_count": 7
        }
      ]
    },
    {
      "cell_type": "code",
      "source": [
        "stock_returns = stock_price.pct_change()"
      ],
      "metadata": {
        "id": "k8EBd-s-5uUP"
      },
      "execution_count": 8,
      "outputs": []
    },
    {
      "cell_type": "code",
      "source": [
        "stock_returns"
      ],
      "metadata": {
        "colab": {
          "base_uri": "https://localhost:8080/",
          "height": 455
        },
        "id": "2gLq5j8R7SUr",
        "outputId": "5bb8a13b-d563-4ed9-e383-af4c28b8d53b"
      },
      "execution_count": 9,
      "outputs": [
        {
          "output_type": "execute_result",
          "data": {
            "text/plain": [
              "                               AAPL      AMZN       MMM       XOM\n",
              "Date                                                             \n",
              "2021-01-04 00:00:00-05:00       NaN       NaN       NaN       NaN\n",
              "2021-01-05 00:00:00-05:00  0.012364  0.010004 -0.001687  0.048193\n",
              "2021-01-06 00:00:00-05:00 -0.033662 -0.024897  0.015212  0.025517\n",
              "2021-01-07 00:00:00-05:00  0.034123  0.007577 -0.025662  0.007846\n",
              "2021-01-08 00:00:00-05:00  0.008631  0.006496 -0.018265  0.011121\n",
              "...                             ...       ...       ...       ...\n",
              "2021-12-27 00:00:00-05:00  0.022975 -0.008178  0.009887  0.014258\n",
              "2021-12-28 00:00:00-05:00 -0.005767  0.005844  0.005320 -0.003232\n",
              "2021-12-29 00:00:00-05:00  0.000502 -0.008555  0.004335 -0.008753\n",
              "2021-12-30 00:00:00-05:00 -0.006578 -0.003289 -0.004316 -0.005887\n",
              "2021-12-31 00:00:00-05:00 -0.003535 -0.011429 -0.000056  0.006580\n",
              "\n",
              "[252 rows x 4 columns]"
            ],
            "text/html": [
              "\n",
              "  <div id=\"df-407f35c2-50cd-4667-a07d-9eddfeb25be1\">\n",
              "    <div class=\"colab-df-container\">\n",
              "      <div>\n",
              "<style scoped>\n",
              "    .dataframe tbody tr th:only-of-type {\n",
              "        vertical-align: middle;\n",
              "    }\n",
              "\n",
              "    .dataframe tbody tr th {\n",
              "        vertical-align: top;\n",
              "    }\n",
              "\n",
              "    .dataframe thead th {\n",
              "        text-align: right;\n",
              "    }\n",
              "</style>\n",
              "<table border=\"1\" class=\"dataframe\">\n",
              "  <thead>\n",
              "    <tr style=\"text-align: right;\">\n",
              "      <th></th>\n",
              "      <th>AAPL</th>\n",
              "      <th>AMZN</th>\n",
              "      <th>MMM</th>\n",
              "      <th>XOM</th>\n",
              "    </tr>\n",
              "    <tr>\n",
              "      <th>Date</th>\n",
              "      <th></th>\n",
              "      <th></th>\n",
              "      <th></th>\n",
              "      <th></th>\n",
              "    </tr>\n",
              "  </thead>\n",
              "  <tbody>\n",
              "    <tr>\n",
              "      <th>2021-01-04 00:00:00-05:00</th>\n",
              "      <td>NaN</td>\n",
              "      <td>NaN</td>\n",
              "      <td>NaN</td>\n",
              "      <td>NaN</td>\n",
              "    </tr>\n",
              "    <tr>\n",
              "      <th>2021-01-05 00:00:00-05:00</th>\n",
              "      <td>0.012364</td>\n",
              "      <td>0.010004</td>\n",
              "      <td>-0.001687</td>\n",
              "      <td>0.048193</td>\n",
              "    </tr>\n",
              "    <tr>\n",
              "      <th>2021-01-06 00:00:00-05:00</th>\n",
              "      <td>-0.033662</td>\n",
              "      <td>-0.024897</td>\n",
              "      <td>0.015212</td>\n",
              "      <td>0.025517</td>\n",
              "    </tr>\n",
              "    <tr>\n",
              "      <th>2021-01-07 00:00:00-05:00</th>\n",
              "      <td>0.034123</td>\n",
              "      <td>0.007577</td>\n",
              "      <td>-0.025662</td>\n",
              "      <td>0.007846</td>\n",
              "    </tr>\n",
              "    <tr>\n",
              "      <th>2021-01-08 00:00:00-05:00</th>\n",
              "      <td>0.008631</td>\n",
              "      <td>0.006496</td>\n",
              "      <td>-0.018265</td>\n",
              "      <td>0.011121</td>\n",
              "    </tr>\n",
              "    <tr>\n",
              "      <th>...</th>\n",
              "      <td>...</td>\n",
              "      <td>...</td>\n",
              "      <td>...</td>\n",
              "      <td>...</td>\n",
              "    </tr>\n",
              "    <tr>\n",
              "      <th>2021-12-27 00:00:00-05:00</th>\n",
              "      <td>0.022975</td>\n",
              "      <td>-0.008178</td>\n",
              "      <td>0.009887</td>\n",
              "      <td>0.014258</td>\n",
              "    </tr>\n",
              "    <tr>\n",
              "      <th>2021-12-28 00:00:00-05:00</th>\n",
              "      <td>-0.005767</td>\n",
              "      <td>0.005844</td>\n",
              "      <td>0.005320</td>\n",
              "      <td>-0.003232</td>\n",
              "    </tr>\n",
              "    <tr>\n",
              "      <th>2021-12-29 00:00:00-05:00</th>\n",
              "      <td>0.000502</td>\n",
              "      <td>-0.008555</td>\n",
              "      <td>0.004335</td>\n",
              "      <td>-0.008753</td>\n",
              "    </tr>\n",
              "    <tr>\n",
              "      <th>2021-12-30 00:00:00-05:00</th>\n",
              "      <td>-0.006578</td>\n",
              "      <td>-0.003289</td>\n",
              "      <td>-0.004316</td>\n",
              "      <td>-0.005887</td>\n",
              "    </tr>\n",
              "    <tr>\n",
              "      <th>2021-12-31 00:00:00-05:00</th>\n",
              "      <td>-0.003535</td>\n",
              "      <td>-0.011429</td>\n",
              "      <td>-0.000056</td>\n",
              "      <td>0.006580</td>\n",
              "    </tr>\n",
              "  </tbody>\n",
              "</table>\n",
              "<p>252 rows × 4 columns</p>\n",
              "</div>\n",
              "      <button class=\"colab-df-convert\" onclick=\"convertToInteractive('df-407f35c2-50cd-4667-a07d-9eddfeb25be1')\"\n",
              "              title=\"Convert this dataframe to an interactive table.\"\n",
              "              style=\"display:none;\">\n",
              "        \n",
              "  <svg xmlns=\"http://www.w3.org/2000/svg\" height=\"24px\"viewBox=\"0 0 24 24\"\n",
              "       width=\"24px\">\n",
              "    <path d=\"M0 0h24v24H0V0z\" fill=\"none\"/>\n",
              "    <path d=\"M18.56 5.44l.94 2.06.94-2.06 2.06-.94-2.06-.94-.94-2.06-.94 2.06-2.06.94zm-11 1L8.5 8.5l.94-2.06 2.06-.94-2.06-.94L8.5 2.5l-.94 2.06-2.06.94zm10 10l.94 2.06.94-2.06 2.06-.94-2.06-.94-.94-2.06-.94 2.06-2.06.94z\"/><path d=\"M17.41 7.96l-1.37-1.37c-.4-.4-.92-.59-1.43-.59-.52 0-1.04.2-1.43.59L10.3 9.45l-7.72 7.72c-.78.78-.78 2.05 0 2.83L4 21.41c.39.39.9.59 1.41.59.51 0 1.02-.2 1.41-.59l7.78-7.78 2.81-2.81c.8-.78.8-2.07 0-2.86zM5.41 20L4 18.59l7.72-7.72 1.47 1.35L5.41 20z\"/>\n",
              "  </svg>\n",
              "      </button>\n",
              "      \n",
              "  <style>\n",
              "    .colab-df-container {\n",
              "      display:flex;\n",
              "      flex-wrap:wrap;\n",
              "      gap: 12px;\n",
              "    }\n",
              "\n",
              "    .colab-df-convert {\n",
              "      background-color: #E8F0FE;\n",
              "      border: none;\n",
              "      border-radius: 50%;\n",
              "      cursor: pointer;\n",
              "      display: none;\n",
              "      fill: #1967D2;\n",
              "      height: 32px;\n",
              "      padding: 0 0 0 0;\n",
              "      width: 32px;\n",
              "    }\n",
              "\n",
              "    .colab-df-convert:hover {\n",
              "      background-color: #E2EBFA;\n",
              "      box-shadow: 0px 1px 2px rgba(60, 64, 67, 0.3), 0px 1px 3px 1px rgba(60, 64, 67, 0.15);\n",
              "      fill: #174EA6;\n",
              "    }\n",
              "\n",
              "    [theme=dark] .colab-df-convert {\n",
              "      background-color: #3B4455;\n",
              "      fill: #D2E3FC;\n",
              "    }\n",
              "\n",
              "    [theme=dark] .colab-df-convert:hover {\n",
              "      background-color: #434B5C;\n",
              "      box-shadow: 0px 1px 3px 1px rgba(0, 0, 0, 0.15);\n",
              "      filter: drop-shadow(0px 1px 2px rgba(0, 0, 0, 0.3));\n",
              "      fill: #FFFFFF;\n",
              "    }\n",
              "  </style>\n",
              "\n",
              "      <script>\n",
              "        const buttonEl =\n",
              "          document.querySelector('#df-407f35c2-50cd-4667-a07d-9eddfeb25be1 button.colab-df-convert');\n",
              "        buttonEl.style.display =\n",
              "          google.colab.kernel.accessAllowed ? 'block' : 'none';\n",
              "\n",
              "        async function convertToInteractive(key) {\n",
              "          const element = document.querySelector('#df-407f35c2-50cd-4667-a07d-9eddfeb25be1');\n",
              "          const dataTable =\n",
              "            await google.colab.kernel.invokeFunction('convertToInteractive',\n",
              "                                                     [key], {});\n",
              "          if (!dataTable) return;\n",
              "\n",
              "          const docLinkHtml = 'Like what you see? Visit the ' +\n",
              "            '<a target=\"_blank\" href=https://colab.research.google.com/notebooks/data_table.ipynb>data table notebook</a>'\n",
              "            + ' to learn more about interactive tables.';\n",
              "          element.innerHTML = '';\n",
              "          dataTable['output_type'] = 'display_data';\n",
              "          await google.colab.output.renderOutput(dataTable, element);\n",
              "          const docLink = document.createElement('div');\n",
              "          docLink.innerHTML = docLinkHtml;\n",
              "          element.appendChild(docLink);\n",
              "        }\n",
              "      </script>\n",
              "    </div>\n",
              "  </div>\n",
              "  "
            ]
          },
          "metadata": {},
          "execution_count": 9
        }
      ]
    },
    {
      "cell_type": "code",
      "source": [
        "return_mean = stock_returns.mean() * 252\n",
        "return_mean"
      ],
      "metadata": {
        "colab": {
          "base_uri": "https://localhost:8080/"
        },
        "id": "Pl7p1JjmZ7jB",
        "outputId": "8567da3a-337b-4a28-ae39-4ece77114a7c"
      },
      "execution_count": 10,
      "outputs": [
        {
          "output_type": "execute_result",
          "data": {
            "text/plain": [
              "AAPL    0.349005\n",
              "AMZN    0.074378\n",
              "MMM     0.050562\n",
              "XOM     0.434391\n",
              "dtype: float64"
            ]
          },
          "metadata": {},
          "execution_count": 10
        }
      ]
    },
    {
      "cell_type": "code",
      "source": [
        "ann_std = stock_returns.pct_change().apply(lambda x: np.log(1+x)).std().apply(lambda x: x*np.sqrt(250))\n",
        "ann_std"
      ],
      "metadata": {
        "colab": {
          "base_uri": "https://localhost:8080/"
        },
        "id": "pssyKzn6CXsr",
        "outputId": "19034b55-ec29-4ae0-b388-b7a2cb259738"
      },
      "execution_count": 11,
      "outputs": [
        {
          "output_type": "execute_result",
          "data": {
            "text/plain": [
              "AAPL    26.831971\n",
              "AMZN    26.234249\n",
              "MMM     28.015217\n",
              "XOM     22.435582\n",
              "dtype: float64"
            ]
          },
          "metadata": {},
          "execution_count": 11
        }
      ]
    },
    {
      "cell_type": "code",
      "source": [
        "assets = pd.concat([return_mean, ann_std], axis=1)\n",
        "assets.columns = ['Returns', 'Volatility']\n",
        "assets"
      ],
      "metadata": {
        "colab": {
          "base_uri": "https://localhost:8080/",
          "height": 175
        },
        "id": "za0oJ30PR2t2",
        "outputId": "461db7a1-7e5f-492e-c1ef-ec7498869cad"
      },
      "execution_count": 12,
      "outputs": [
        {
          "output_type": "execute_result",
          "data": {
            "text/plain": [
              "       Returns  Volatility\n",
              "AAPL  0.349005   26.831971\n",
              "AMZN  0.074378   26.234249\n",
              "MMM   0.050562   28.015217\n",
              "XOM   0.434391   22.435582"
            ],
            "text/html": [
              "\n",
              "  <div id=\"df-17023bb6-0629-434b-8857-98ba20dfafb8\">\n",
              "    <div class=\"colab-df-container\">\n",
              "      <div>\n",
              "<style scoped>\n",
              "    .dataframe tbody tr th:only-of-type {\n",
              "        vertical-align: middle;\n",
              "    }\n",
              "\n",
              "    .dataframe tbody tr th {\n",
              "        vertical-align: top;\n",
              "    }\n",
              "\n",
              "    .dataframe thead th {\n",
              "        text-align: right;\n",
              "    }\n",
              "</style>\n",
              "<table border=\"1\" class=\"dataframe\">\n",
              "  <thead>\n",
              "    <tr style=\"text-align: right;\">\n",
              "      <th></th>\n",
              "      <th>Returns</th>\n",
              "      <th>Volatility</th>\n",
              "    </tr>\n",
              "  </thead>\n",
              "  <tbody>\n",
              "    <tr>\n",
              "      <th>AAPL</th>\n",
              "      <td>0.349005</td>\n",
              "      <td>26.831971</td>\n",
              "    </tr>\n",
              "    <tr>\n",
              "      <th>AMZN</th>\n",
              "      <td>0.074378</td>\n",
              "      <td>26.234249</td>\n",
              "    </tr>\n",
              "    <tr>\n",
              "      <th>MMM</th>\n",
              "      <td>0.050562</td>\n",
              "      <td>28.015217</td>\n",
              "    </tr>\n",
              "    <tr>\n",
              "      <th>XOM</th>\n",
              "      <td>0.434391</td>\n",
              "      <td>22.435582</td>\n",
              "    </tr>\n",
              "  </tbody>\n",
              "</table>\n",
              "</div>\n",
              "      <button class=\"colab-df-convert\" onclick=\"convertToInteractive('df-17023bb6-0629-434b-8857-98ba20dfafb8')\"\n",
              "              title=\"Convert this dataframe to an interactive table.\"\n",
              "              style=\"display:none;\">\n",
              "        \n",
              "  <svg xmlns=\"http://www.w3.org/2000/svg\" height=\"24px\"viewBox=\"0 0 24 24\"\n",
              "       width=\"24px\">\n",
              "    <path d=\"M0 0h24v24H0V0z\" fill=\"none\"/>\n",
              "    <path d=\"M18.56 5.44l.94 2.06.94-2.06 2.06-.94-2.06-.94-.94-2.06-.94 2.06-2.06.94zm-11 1L8.5 8.5l.94-2.06 2.06-.94-2.06-.94L8.5 2.5l-.94 2.06-2.06.94zm10 10l.94 2.06.94-2.06 2.06-.94-2.06-.94-.94-2.06-.94 2.06-2.06.94z\"/><path d=\"M17.41 7.96l-1.37-1.37c-.4-.4-.92-.59-1.43-.59-.52 0-1.04.2-1.43.59L10.3 9.45l-7.72 7.72c-.78.78-.78 2.05 0 2.83L4 21.41c.39.39.9.59 1.41.59.51 0 1.02-.2 1.41-.59l7.78-7.78 2.81-2.81c.8-.78.8-2.07 0-2.86zM5.41 20L4 18.59l7.72-7.72 1.47 1.35L5.41 20z\"/>\n",
              "  </svg>\n",
              "      </button>\n",
              "      \n",
              "  <style>\n",
              "    .colab-df-container {\n",
              "      display:flex;\n",
              "      flex-wrap:wrap;\n",
              "      gap: 12px;\n",
              "    }\n",
              "\n",
              "    .colab-df-convert {\n",
              "      background-color: #E8F0FE;\n",
              "      border: none;\n",
              "      border-radius: 50%;\n",
              "      cursor: pointer;\n",
              "      display: none;\n",
              "      fill: #1967D2;\n",
              "      height: 32px;\n",
              "      padding: 0 0 0 0;\n",
              "      width: 32px;\n",
              "    }\n",
              "\n",
              "    .colab-df-convert:hover {\n",
              "      background-color: #E2EBFA;\n",
              "      box-shadow: 0px 1px 2px rgba(60, 64, 67, 0.3), 0px 1px 3px 1px rgba(60, 64, 67, 0.15);\n",
              "      fill: #174EA6;\n",
              "    }\n",
              "\n",
              "    [theme=dark] .colab-df-convert {\n",
              "      background-color: #3B4455;\n",
              "      fill: #D2E3FC;\n",
              "    }\n",
              "\n",
              "    [theme=dark] .colab-df-convert:hover {\n",
              "      background-color: #434B5C;\n",
              "      box-shadow: 0px 1px 3px 1px rgba(0, 0, 0, 0.15);\n",
              "      filter: drop-shadow(0px 1px 2px rgba(0, 0, 0, 0.3));\n",
              "      fill: #FFFFFF;\n",
              "    }\n",
              "  </style>\n",
              "\n",
              "      <script>\n",
              "        const buttonEl =\n",
              "          document.querySelector('#df-17023bb6-0629-434b-8857-98ba20dfafb8 button.colab-df-convert');\n",
              "        buttonEl.style.display =\n",
              "          google.colab.kernel.accessAllowed ? 'block' : 'none';\n",
              "\n",
              "        async function convertToInteractive(key) {\n",
              "          const element = document.querySelector('#df-17023bb6-0629-434b-8857-98ba20dfafb8');\n",
              "          const dataTable =\n",
              "            await google.colab.kernel.invokeFunction('convertToInteractive',\n",
              "                                                     [key], {});\n",
              "          if (!dataTable) return;\n",
              "\n",
              "          const docLinkHtml = 'Like what you see? Visit the ' +\n",
              "            '<a target=\"_blank\" href=https://colab.research.google.com/notebooks/data_table.ipynb>data table notebook</a>'\n",
              "            + ' to learn more about interactive tables.';\n",
              "          element.innerHTML = '';\n",
              "          dataTable['output_type'] = 'display_data';\n",
              "          await google.colab.output.renderOutput(dataTable, element);\n",
              "          const docLink = document.createElement('div');\n",
              "          docLink.innerHTML = docLinkHtml;\n",
              "          element.appendChild(docLink);\n",
              "        }\n",
              "      </script>\n",
              "    </div>\n",
              "  </div>\n",
              "  "
            ]
          },
          "metadata": {},
          "execution_count": 12
        }
      ]
    },
    {
      "cell_type": "markdown",
      "source": [
        "## Draw efficient frontier."
      ],
      "metadata": {
        "id": "uNrcDAAY8T9W"
      }
    },
    {
      "cell_type": "code",
      "source": [
        "p_ret = []\n",
        "p_vol = [] \n",
        "p_weights = [] \n",
        "\n",
        "num_assets = len(stock_returns.columns)\n",
        "num_portfolios = 10000"
      ],
      "metadata": {
        "id": "d5BIXpISSg6k"
      },
      "execution_count": 13,
      "outputs": []
    },
    {
      "cell_type": "code",
      "source": [
        "cov_matrix = stock_returns.cov() * np.sqrt(252)"
      ],
      "metadata": {
        "id": "9a8WNdcZcGeO"
      },
      "execution_count": 14,
      "outputs": []
    },
    {
      "cell_type": "code",
      "source": [
        "for portfolio in range(num_portfolios):\n",
        "    weights = np.random.random(num_assets)\n",
        "    weights = weights/np.sum(weights)\n",
        "    p_weights.append(weights)\n",
        "    returns = np.dot(weights, return_mean)\n",
        "    p_ret.append(returns)\n",
        "    var = cov_matrix.mul(weights, axis=0).mul(weights, axis=1).sum().sum()\n",
        "    sd = np.sqrt(var)\n",
        "    ann_std = sd*np.sqrt(252)\n",
        "    p_vol.append(ann_std)"
      ],
      "metadata": {
        "id": "OiNQt-OQbG9v"
      },
      "execution_count": 15,
      "outputs": []
    },
    {
      "cell_type": "code",
      "source": [
        "data = {'Returns':p_ret, 'Volatility':p_vol}\n",
        "\n",
        "for counter, symbol in enumerate(stock_returns.columns.tolist()):\n",
        "    data[symbol+' weight'] = [w[counter] for w in p_weights]"
      ],
      "metadata": {
        "id": "Va9V06kxbkGA"
      },
      "execution_count": 16,
      "outputs": []
    },
    {
      "cell_type": "code",
      "source": [
        "portfolios  = pd.DataFrame(data)\n",
        "portfolios.head() "
      ],
      "metadata": {
        "colab": {
          "base_uri": "https://localhost:8080/",
          "height": 206
        },
        "id": "V0GbnJOBcRdj",
        "outputId": "31485fda-8286-4756-e117-4d21b6ca7761"
      },
      "execution_count": 17,
      "outputs": [
        {
          "output_type": "execute_result",
          "data": {
            "text/plain": [
              "    Returns  Volatility  AAPL weight  AMZN weight  MMM weight  XOM weight\n",
              "0  0.308084    0.688841     0.382330     0.143450    0.109470    0.364750\n",
              "1  0.240505    0.632304     0.179789     0.091355    0.379456    0.349400\n",
              "2  0.240445    0.650949     0.399995     0.239299    0.191859    0.168847\n",
              "3  0.332347    0.722158     0.387517     0.118041    0.068935    0.425507\n",
              "4  0.153031    0.573667     0.157114     0.339627    0.379531    0.123728"
            ],
            "text/html": [
              "\n",
              "  <div id=\"df-33d03667-cae4-412c-a279-4e2a91d27020\">\n",
              "    <div class=\"colab-df-container\">\n",
              "      <div>\n",
              "<style scoped>\n",
              "    .dataframe tbody tr th:only-of-type {\n",
              "        vertical-align: middle;\n",
              "    }\n",
              "\n",
              "    .dataframe tbody tr th {\n",
              "        vertical-align: top;\n",
              "    }\n",
              "\n",
              "    .dataframe thead th {\n",
              "        text-align: right;\n",
              "    }\n",
              "</style>\n",
              "<table border=\"1\" class=\"dataframe\">\n",
              "  <thead>\n",
              "    <tr style=\"text-align: right;\">\n",
              "      <th></th>\n",
              "      <th>Returns</th>\n",
              "      <th>Volatility</th>\n",
              "      <th>AAPL weight</th>\n",
              "      <th>AMZN weight</th>\n",
              "      <th>MMM weight</th>\n",
              "      <th>XOM weight</th>\n",
              "    </tr>\n",
              "  </thead>\n",
              "  <tbody>\n",
              "    <tr>\n",
              "      <th>0</th>\n",
              "      <td>0.308084</td>\n",
              "      <td>0.688841</td>\n",
              "      <td>0.382330</td>\n",
              "      <td>0.143450</td>\n",
              "      <td>0.109470</td>\n",
              "      <td>0.364750</td>\n",
              "    </tr>\n",
              "    <tr>\n",
              "      <th>1</th>\n",
              "      <td>0.240505</td>\n",
              "      <td>0.632304</td>\n",
              "      <td>0.179789</td>\n",
              "      <td>0.091355</td>\n",
              "      <td>0.379456</td>\n",
              "      <td>0.349400</td>\n",
              "    </tr>\n",
              "    <tr>\n",
              "      <th>2</th>\n",
              "      <td>0.240445</td>\n",
              "      <td>0.650949</td>\n",
              "      <td>0.399995</td>\n",
              "      <td>0.239299</td>\n",
              "      <td>0.191859</td>\n",
              "      <td>0.168847</td>\n",
              "    </tr>\n",
              "    <tr>\n",
              "      <th>3</th>\n",
              "      <td>0.332347</td>\n",
              "      <td>0.722158</td>\n",
              "      <td>0.387517</td>\n",
              "      <td>0.118041</td>\n",
              "      <td>0.068935</td>\n",
              "      <td>0.425507</td>\n",
              "    </tr>\n",
              "    <tr>\n",
              "      <th>4</th>\n",
              "      <td>0.153031</td>\n",
              "      <td>0.573667</td>\n",
              "      <td>0.157114</td>\n",
              "      <td>0.339627</td>\n",
              "      <td>0.379531</td>\n",
              "      <td>0.123728</td>\n",
              "    </tr>\n",
              "  </tbody>\n",
              "</table>\n",
              "</div>\n",
              "      <button class=\"colab-df-convert\" onclick=\"convertToInteractive('df-33d03667-cae4-412c-a279-4e2a91d27020')\"\n",
              "              title=\"Convert this dataframe to an interactive table.\"\n",
              "              style=\"display:none;\">\n",
              "        \n",
              "  <svg xmlns=\"http://www.w3.org/2000/svg\" height=\"24px\"viewBox=\"0 0 24 24\"\n",
              "       width=\"24px\">\n",
              "    <path d=\"M0 0h24v24H0V0z\" fill=\"none\"/>\n",
              "    <path d=\"M18.56 5.44l.94 2.06.94-2.06 2.06-.94-2.06-.94-.94-2.06-.94 2.06-2.06.94zm-11 1L8.5 8.5l.94-2.06 2.06-.94-2.06-.94L8.5 2.5l-.94 2.06-2.06.94zm10 10l.94 2.06.94-2.06 2.06-.94-2.06-.94-.94-2.06-.94 2.06-2.06.94z\"/><path d=\"M17.41 7.96l-1.37-1.37c-.4-.4-.92-.59-1.43-.59-.52 0-1.04.2-1.43.59L10.3 9.45l-7.72 7.72c-.78.78-.78 2.05 0 2.83L4 21.41c.39.39.9.59 1.41.59.51 0 1.02-.2 1.41-.59l7.78-7.78 2.81-2.81c.8-.78.8-2.07 0-2.86zM5.41 20L4 18.59l7.72-7.72 1.47 1.35L5.41 20z\"/>\n",
              "  </svg>\n",
              "      </button>\n",
              "      \n",
              "  <style>\n",
              "    .colab-df-container {\n",
              "      display:flex;\n",
              "      flex-wrap:wrap;\n",
              "      gap: 12px;\n",
              "    }\n",
              "\n",
              "    .colab-df-convert {\n",
              "      background-color: #E8F0FE;\n",
              "      border: none;\n",
              "      border-radius: 50%;\n",
              "      cursor: pointer;\n",
              "      display: none;\n",
              "      fill: #1967D2;\n",
              "      height: 32px;\n",
              "      padding: 0 0 0 0;\n",
              "      width: 32px;\n",
              "    }\n",
              "\n",
              "    .colab-df-convert:hover {\n",
              "      background-color: #E2EBFA;\n",
              "      box-shadow: 0px 1px 2px rgba(60, 64, 67, 0.3), 0px 1px 3px 1px rgba(60, 64, 67, 0.15);\n",
              "      fill: #174EA6;\n",
              "    }\n",
              "\n",
              "    [theme=dark] .colab-df-convert {\n",
              "      background-color: #3B4455;\n",
              "      fill: #D2E3FC;\n",
              "    }\n",
              "\n",
              "    [theme=dark] .colab-df-convert:hover {\n",
              "      background-color: #434B5C;\n",
              "      box-shadow: 0px 1px 3px 1px rgba(0, 0, 0, 0.15);\n",
              "      filter: drop-shadow(0px 1px 2px rgba(0, 0, 0, 0.3));\n",
              "      fill: #FFFFFF;\n",
              "    }\n",
              "  </style>\n",
              "\n",
              "      <script>\n",
              "        const buttonEl =\n",
              "          document.querySelector('#df-33d03667-cae4-412c-a279-4e2a91d27020 button.colab-df-convert');\n",
              "        buttonEl.style.display =\n",
              "          google.colab.kernel.accessAllowed ? 'block' : 'none';\n",
              "\n",
              "        async function convertToInteractive(key) {\n",
              "          const element = document.querySelector('#df-33d03667-cae4-412c-a279-4e2a91d27020');\n",
              "          const dataTable =\n",
              "            await google.colab.kernel.invokeFunction('convertToInteractive',\n",
              "                                                     [key], {});\n",
              "          if (!dataTable) return;\n",
              "\n",
              "          const docLinkHtml = 'Like what you see? Visit the ' +\n",
              "            '<a target=\"_blank\" href=https://colab.research.google.com/notebooks/data_table.ipynb>data table notebook</a>'\n",
              "            + ' to learn more about interactive tables.';\n",
              "          element.innerHTML = '';\n",
              "          dataTable['output_type'] = 'display_data';\n",
              "          await google.colab.output.renderOutput(dataTable, element);\n",
              "          const docLink = document.createElement('div');\n",
              "          docLink.innerHTML = docLinkHtml;\n",
              "          element.appendChild(docLink);\n",
              "        }\n",
              "      </script>\n",
              "    </div>\n",
              "  </div>\n",
              "  "
            ]
          },
          "metadata": {},
          "execution_count": 17
        }
      ]
    },
    {
      "cell_type": "code",
      "source": [
        "portfolios.plot.scatter(x='Volatility', y='Returns', s=10, figsize=[10,7])"
      ],
      "metadata": {
        "colab": {
          "base_uri": "https://localhost:8080/",
          "height": 503
        },
        "id": "FCW-HAPdcYxj",
        "outputId": "b446b8dc-b8e9-406e-b53f-66924ae8cd20"
      },
      "execution_count": 18,
      "outputs": [
        {
          "output_type": "stream",
          "name": "stderr",
          "text": [
            "WARNING:matplotlib.axes._axes:*c* argument looks like a single numeric RGB or RGBA sequence, which should be avoided as value-mapping will have precedence in case its length matches with *x* & *y*.  Please use the *color* keyword-argument or provide a 2-D array with a single row if you intend to specify the same RGB or RGBA value for all points.\n"
          ]
        },
        {
          "output_type": "execute_result",
          "data": {
            "text/plain": [
              "<matplotlib.axes._subplots.AxesSubplot at 0x7fb003c559d0>"
            ]
          },
          "metadata": {},
          "execution_count": 18
        },
        {
          "output_type": "display_data",
          "data": {
            "text/plain": [
              "<Figure size 720x504 with 1 Axes>"
            ],
            "image/png": "[encoded data removed]"
          },
          "metadata": {
            "needs_background": "light"
          }
        }
      ]
    },
    {
      "cell_type": "markdown",
      "source": [
        "## Assume risk free rate to be 0.01 & Calculate the sharpe ratio and interpret which one is the best."
      ],
      "metadata": {
        "id": "B6G-WiW08Hus"
      }
    },
    {
      "cell_type": "code",
      "source": [
        "stock_returns_mean = stock_returns.mean()\n",
        "stock_returns_std = stock_returns.std()\n",
        "\n",
        "Sharpe_Ratio =  (stock_returns_mean) / (stock_returns_std) "
      ],
      "metadata": {
        "id": "FJb4AACxr_M1"
      },
      "execution_count": 19,
      "outputs": []
    },
    {
      "cell_type": "code",
      "source": [
        "Sharpe_Ratio"
      ],
      "metadata": {
        "colab": {
          "base_uri": "https://localhost:8080/"
        },
        "id": "Rz5dbnKYr_Jr",
        "outputId": "feede33c-29db-4b7a-f9dd-3d229b41e683"
      },
      "execution_count": 20,
      "outputs": [
        {
          "output_type": "execute_result",
          "data": {
            "text/plain": [
              "AAPL    0.087872\n",
              "AMZN    0.019489\n",
              "MMM     0.017012\n",
              "XOM     0.091711\n",
              "dtype: float64"
            ]
          },
          "metadata": {},
          "execution_count": 20
        }
      ]
    },
    {
      "cell_type": "code",
      "source": [
        "Annual_Sharpe_Ratio = Sharpe_Ratio * (252**0.5)"
      ],
      "metadata": {
        "id": "bd5Bha_dr-98"
      },
      "execution_count": 21,
      "outputs": []
    },
    {
      "cell_type": "code",
      "source": [
        "Annual_Sharpe_Ratio"
      ],
      "metadata": {
        "colab": {
          "base_uri": "https://localhost:8080/"
        },
        "id": "DpJFwO1Rr-7G",
        "outputId": "41fc0f47-81db-44af-b171-ab07cefb1e06"
      },
      "execution_count": 22,
      "outputs": [
        {
          "output_type": "execute_result",
          "data": {
            "text/plain": [
              "AAPL    1.394918\n",
              "AMZN    0.309375\n",
              "MMM     0.270062\n",
              "XOM     1.455863\n",
              "dtype: float64"
            ]
          },
          "metadata": {},
          "execution_count": 22
        }
      ]
    },
    {
      "cell_type": "markdown",
      "source": [
        "##  calculate sharpe ratio with the PyPortfolioOpt "
      ],
      "metadata": {
        "id": "izDwiNBE8k_c"
      }
    },
    {
      "cell_type": "code",
      "source": [
        "!pip install PyPortfolioOpt"
      ],
      "metadata": {
        "colab": {
          "base_uri": "https://localhost:8080/"
        },
        "id": "9LUZzyd9cnQC",
        "outputId": "3c220c82-5e6a-40e8-a017-096f084038bf"
      },
      "execution_count": 23,
      "outputs": [
        {
          "output_type": "stream",
          "name": "stdout",
          "text": [
            "Looking in indexes: https://pypi.org/simple, https://us-python.pkg.dev/colab-wheels/public/simple/\n",
            "Requirement already satisfied: PyPortfolioOpt in /usr/local/lib/python3.7/dist-packages (1.5.2)\n",
            "Requirement already satisfied: numpy<2.0,>=1.12 in /usr/local/lib/python3.7/dist-packages (from PyPortfolioOpt) (1.21.6)\n",
            "Requirement already satisfied: pandas>=0.19 in /usr/local/lib/python3.7/dist-packages (from PyPortfolioOpt) (1.3.5)\n",
            "Requirement already satisfied: cvxpy<2.0.0,>=1.1.10 in /usr/local/lib/python3.7/dist-packages (from PyPortfolioOpt) (1.2.1)\n",
            "Requirement already satisfied: scipy<2.0,>=1.3 in /usr/local/lib/python3.7/dist-packages (from PyPortfolioOpt) (1.7.3)\n",
            "Requirement already satisfied: scs>=1.1.6 in /usr/local/lib/python3.7/dist-packages (from cvxpy<2.0.0,>=1.1.10->PyPortfolioOpt) (3.2.0)\n",
            "Requirement already satisfied: ecos>=2 in /usr/local/lib/python3.7/dist-packages (from cvxpy<2.0.0,>=1.1.10->PyPortfolioOpt) (2.0.10)\n",
            "Requirement already satisfied: osqp>=0.4.1 in /usr/local/lib/python3.7/dist-packages (from cvxpy<2.0.0,>=1.1.10->PyPortfolioOpt) (0.6.2.post0)\n",
            "Requirement already satisfied: qdldl in /usr/local/lib/python3.7/dist-packages (from osqp>=0.4.1->cvxpy<2.0.0,>=1.1.10->PyPortfolioOpt) (0.1.5.post2)\n",
            "Requirement already satisfied: pytz>=2017.3 in /usr/local/lib/python3.7/dist-packages (from pandas>=0.19->PyPortfolioOpt) (2022.4)\n",
            "Requirement already satisfied: python-dateutil>=2.7.3 in /usr/local/lib/python3.7/dist-packages (from pandas>=0.19->PyPortfolioOpt) (2.8.2)\n",
            "Requirement already satisfied: six>=1.5 in /usr/local/lib/python3.7/dist-packages (from python-dateutil>=2.7.3->pandas>=0.19->PyPortfolioOpt) (1.15.0)\n"
          ]
        }
      ]
    },
    {
      "cell_type": "code",
      "source": [
        "from pypfopt.efficient_frontier import EfficientFrontier\n",
        "from pypfopt import plotting\n",
        "from pypfopt import risk_models\n",
        "from pypfopt import expected_returns\n",
        "from pypfopt.risk_models import CovarianceShrinkage"
      ],
      "metadata": {
        "id": "CsE4UGMUq3_b"
      },
      "execution_count": 28,
      "outputs": []
    },
    {
      "cell_type": "code",
      "source": [
        "e_r = mean_historical_return(prices)\n",
        "cov_matrix = CovarianceShrinkage(prices).ledoit_wolf()"
      ],
      "metadata": {
        "id": "NsljjWZT4OW3"
      },
      "execution_count": null,
      "outputs": []
    },
    {
      "cell_type": "code",
      "source": [
        "mu = expected_returns.mean_historical_return(stock_price)\n",
        "S = CovarianceShrinkage(stock_price).ledoit_wolf()\n",
        "\n",
        "\n",
        "EF = EfficientFrontier(mu, S)\n",
        "weights = EF.max_sharpe()\n",
        "EF.portfolio_performance(verbose=True)"
      ],
      "metadata": {
        "colab": {
          "base_uri": "https://localhost:8080/"
        },
        "id": "ibfBqfc0rivs",
        "outputId": "88c516e7-f347-42e4-9b60-566d1e85b827"
      },
      "execution_count": 29,
      "outputs": [
        {
          "output_type": "stream",
          "name": "stdout",
          "text": [
            "Expected annual return: 42.4%\n",
            "Annual volatility: 19.7%\n",
            "Sharpe Ratio: 2.05\n"
          ]
        },
        {
          "output_type": "execute_result",
          "data": {
            "text/plain": [
              "(0.4237126634748412, 0.1969442891399553, 2.0498825593665693)"
            ]
          },
          "metadata": {},
          "execution_count": 29
        }
      ]
    }
  ],
  "metadata": {
    "kernelspec": {
      "display_name": "Python 3 (ipykernel)",
      "language": "python",
      "name": "python3"
    },
    "language_info": {
      "codemirror_mode": {
        "name": "ipython",
        "version": 3
      },
      "file_extension": ".py",
      "mimetype": "text/x-python",
      "name": "python",
      "nbconvert_exporter": "python",
      "pygments_lexer": "ipython3",
      "version": "3.9.7"
    },
    "latex_envs": {
      "LaTeX_envs_menu_present": true,
      "autoclose": false,
      "autocomplete": true,
      "bibliofile": "biblio.bib",
      "cite_by": "apalike",
      "current_citInitial": 1,
      "eqLabelWithNumbers": true,
      "eqNumInitial": 1,
      "hotkeys": {
        "equation": "Ctrl-E",
        "itemize": "Ctrl-I"
      },
      "labels_anchors": false,
      "latex_user_defs": false,
      "report_style_numbering": false,
      "user_envs_cfg": false
    },
    "toc": {
      "base_numbering": 1,
      "nav_menu": {},
      "number_sections": false,
      "sideBar": true,
      "skip_h1_title": false,
      "title_cell": "Table of Contents",
      "title_sidebar": "Contents",
      "toc_cell": false,
      "toc_position": {},
      "toc_section_display": true,
      "toc_window_display": false
    },
    "colab": {
      "provenance": [],
      "collapsed_sections": []
    }
  },
  "nbformat": 4,
  "nbformat_minor": 0
}