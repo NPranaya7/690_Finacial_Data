{
 "cells": [
  {
   "cell_type": "markdown",
   "metadata": {},
   "source": [
    "# Portfolio Theory and Its Application in Python\n"
   ]
  },
  {
   "cell_type": "markdown",
   "metadata": {},
   "source": [
    "The main purpose of portfolio formation is to allocate funds to different financial assets and to try to minimize the risk through diversification or optimization. Portfolio management is a dynamic investment management process that aims to allocate the funds held by the investor to existing financial asset alternatives in such a way to provide the highest return given a certain risk level."
   ]
  },
  {
   "cell_type": "markdown",
   "metadata": {},
   "source": [
    "The purpose of portfolio management is to decide which assets to include into the portfolio in the context of the decision maker's attitude towards risk and return and which assets to withdraw from the portfolio depending on the time-varying  conditions. To address this issue, we are about to discuss `Markowitz` Portfolio Theory."
   ]
  },
  {
   "cell_type": "markdown",
   "metadata": {},
   "source": [
    "## Introduction to Main Concepts for Portfolio Optimization"
   ]
  },
  {
   "cell_type": "markdown",
   "metadata": {},
   "source": [
    "Managing asset amounts to managing risk but having many assets does not increase the types of risk that investor faces as there are two types of risks, which are `systematic` and `unsystematic`. With that being said, I do not imply that investor's risk level stays the same. In contrast, once investor has many assets, she tends to be more vulnerable to an changes in the source of risk. Let's make it clear."
   ]
  },
  {
   "cell_type": "markdown",
   "metadata": {},
   "source": [
    "Now consider we have a bunch of stocks called `portfolio` and each has different susceptibility to risk such as internal weakness, management failure, shock in interest rate, any annoucements and so on. As long as `idiosyncratic` risk affects the stock in our portfolio in a different scale, we can decrease the porfolio risk to a certain level. "
   ]
  },
  {
   "cell_type": "markdown",
   "metadata": {},
   "source": [
    "For instance, a new tax imposed on mobile telecomunication might severely affect the stock price of telecom companies but how about the companies operating outside the telecomunication sector? This imposed tax facilitates people to use some internet-based applications like whatsapp, facetime etc. for communication. This, in turn, boosts the stock price of companies selling these apps. "
   ]
  },
  {
   "cell_type": "markdown",
   "metadata": {},
   "source": [
    "Thus, if we have more than one stock in our portfolio, we are able to offset the risk. This strategy is refered to as `diversification`. By diversification, we can reduce the risk to a certain level but note that cannot make it completely go away. "
   ]
  },
  {
   "cell_type": "markdown",
   "metadata": {},
   "source": [
    "However, if the source of risk is common to all stocks in our portfolio, even diversification cannot help us to eliminate risk. Now, why don't we differentiate risk based on its diversifiability:"
   ]
  },
  {
   "cell_type": "markdown",
   "metadata": {},
   "source": [
    "* If a risk can be eliminated by diversification, it is called unsystematic or idiosyncratic or diversifiable risk. \n",
    "* If a risk cannot be eliminated by diversification, it is called  systematic"
   ]
  },
  {
   "cell_type": "markdown",
   "metadata": {},
   "source": [
    "In summary, diversification is a way to eliminate risk. At this point, the next question is what is the acceptable risk? We cannot address this question simply by focusing solely on the risk but risk-return relationship can whisper us valuable information."
   ]
  },
  {
   "cell_type": "markdown",
   "metadata": {},
   "source": [
    "Intuitively, risk and return is positively related, that is, an increase in risk leads to an increase in return. The more risk an investor can bear, the more likely she gets higher return. So, the return is a function of risk."
   ]
  },
  {
   "cell_type": "markdown",
   "metadata": {},
   "source": [
    "Before digging into, let's briefly discuss the main statistics that is used in portfolio optimization:\n",
    "* Expected portfolio mean\n",
    "* Portfolio variance\n",
    "* Portfolio standard deviation"
   ]
  },
  {
   "cell_type": "markdown",
   "metadata": {},
   "source": [
    "Formula for daily portfolio mean is:"
   ]
  },
  {
   "cell_type": "markdown",
   "metadata": {},
   "source": [
    "\n",
    "\\begin{align}\\mu_p&=\\mathbb{E}(\\sum_i^n w_ir_i)\\\\\n",
    "        &=\\sum_i^n w_i\\mathbb{E}(r_i)\\\\\n",
    "        &=\\sum_i^n w_i \\mu_i\\\\\n",
    "        &=w^T\\mu\\end{align}\n",
    "\n"
   ]
  },
  {
   "cell_type": "markdown",
   "metadata": {},
   "source": [
    "To obtain the portfolio standard deviation, we should calculate the variance of a portfolio. The portfolio variance calculation is somewhat different from that of single asset as we are dealing with many asssets, the covariance between them should be taken into account. Let us assume that we have two assets and portfolio return is:"
   ]
  },
  {
   "cell_type": "markdown",
   "metadata": {},
   "source": [
    "$$ r_p=w_ar_a+w_br_b$$"
   ]
  },
  {
   "cell_type": "markdown",
   "metadata": {},
   "source": [
    "where $w_a$ and $w_b$ denotes weigths of the corresponding return of stock a and stock b, respectively. If we take the variance of both sides, it turns out:"
   ]
  },
  {
   "cell_type": "markdown",
   "metadata": {},
   "source": [
    "$$ \\sigma^2_p=w_a^2\\sigma^2_a+w^2_b\\sigma^2_b+2w_aw_b\\text{Cov}(r_a,r_b)$$"
   ]
  },
  {
   "cell_type": "markdown",
   "metadata": {},
   "source": [
    "Taking square root of the variance obtained above gives us the portfolio standard deviation:"
   ]
  },
  {
   "cell_type": "markdown",
   "metadata": {},
   "source": [
    "$$\\sigma_p=\\sqrt{\\sigma^2_p}$$"
   ]
  },
  {
   "cell_type": "markdown",
   "metadata": {},
   "source": [
    "In matrix notation:"
   ]
  },
  {
   "cell_type": "markdown",
   "metadata": {},
   "source": [
    "\n",
    "\\begin{align}\\sigma^2_p&=\\mathbb{E}(r-\\mu)^2\\\\\n",
    "&=\\sum_i^n\\sum_j^n w_iw_j \\sigma_{ij}\\\\\n",
    "&=w^T \\Sigma w \\end{align}\n"
   ]
  },
  {
   "cell_type": "markdown",
   "metadata": {},
   "source": [
    "## Markowitz's Portfolio Theory and Application with Python"
   ]
  },
  {
   "cell_type": "markdown",
   "metadata": {},
   "source": [
    "`Mean-Variance Portfolio Theory` (MPT), proposed by Markowitz, is the main building block of modern portfolio optimization. Markowitz defines return on investment using expected value of its possible returns and he employed variance to reckon risk. At his time around 1950s, this approach was a brand new one since risk was perceived as the likelihood of losses not the volatility of returns. This intuitive idea have made the applicability of mathematical statistic possible in finance."
   ]
  },
  {
   "cell_type": "markdown",
   "metadata": {},
   "source": [
    "Thus, the portfolio problem is reduced to as the trade-off problem of between portfolio mean and variance of the assets, and MPT suggests that given the same level of risk low risk should be preferred among fixed risk securities and high expected return and fixed expected return securities."
   ]
  },
  {
   "cell_type": "markdown",
   "metadata": {},
   "source": [
    "As much as modern portfolio theory is based on MPT, MPT is also based on diversification to achieve, given a certain level of risk, a minimal portfolio risk or maximal portfolio returns."
   ]
  },
  {
   "cell_type": "markdown",
   "metadata": {},
   "source": [
    "Let's now calculate these basic portfolio statistics via real data that we have used in CAPM and APT lesson for an arbitrarily selected time period:"
   ]
  },
  {
   "cell_type": "code",
   "execution_count": 1,
   "metadata": {},
   "outputs": [],
   "source": [
    "import pandas as pd\n",
    "import datetime\n",
    "import yfinance as yf\n",
    "import matplotlib.pyplot as plt"
   ]
  },
  {
   "cell_type": "code",
   "execution_count": 2,
   "metadata": {},
   "outputs": [
    {
     "name": "stdout",
     "output_type": "stream",
     "text": [
      "[*********************100%***********************]  3 of 3 completed\n"
     ]
    }
   ],
   "source": [
    "stocks = ['CMCSA', 'T', 'VZ']\n",
    "start = datetime.datetime(2010,1, 1)\n",
    "end = datetime.datetime(2020, 4, 4)\n",
    "stock_data = yf.download(stocks, start=start, end=end, interval='1d')['Close']"
   ]
  },
  {
   "cell_type": "code",
   "execution_count": 3,
   "metadata": {},
   "outputs": [
    {
     "data": {
      "text/html": [
       "<div>\n",
       "<style scoped>\n",
       "    .dataframe tbody tr th:only-of-type {\n",
       "        vertical-align: middle;\n",
       "    }\n",
       "\n",
       "    .dataframe tbody tr th {\n",
       "        vertical-align: top;\n",
       "    }\n",
       "\n",
       "    .dataframe thead th {\n",
       "        text-align: right;\n",
       "    }\n",
       "</style>\n",
       "<table border=\"1\" class=\"dataframe\">\n",
       "  <thead>\n",
       "    <tr style=\"text-align: right;\">\n",
       "      <th></th>\n",
       "      <th>CMCSA</th>\n",
       "      <th>T</th>\n",
       "      <th>VZ</th>\n",
       "    </tr>\n",
       "    <tr>\n",
       "      <th>Date</th>\n",
       "      <th></th>\n",
       "      <th></th>\n",
       "      <th></th>\n",
       "    </tr>\n",
       "  </thead>\n",
       "  <tbody>\n",
       "    <tr>\n",
       "      <th>2009-12-31</th>\n",
       "      <td>8.430</td>\n",
       "      <td>21.170694</td>\n",
       "      <td>31.072264</td>\n",
       "    </tr>\n",
       "    <tr>\n",
       "      <th>2010-01-04</th>\n",
       "      <td>8.485</td>\n",
       "      <td>21.586103</td>\n",
       "      <td>31.212946</td>\n",
       "    </tr>\n",
       "    <tr>\n",
       "      <th>2010-01-05</th>\n",
       "      <td>8.370</td>\n",
       "      <td>21.480364</td>\n",
       "      <td>31.269218</td>\n",
       "    </tr>\n",
       "    <tr>\n",
       "      <th>2010-01-06</th>\n",
       "      <td>8.310</td>\n",
       "      <td>20.853474</td>\n",
       "      <td>29.937416</td>\n",
       "    </tr>\n",
       "    <tr>\n",
       "      <th>2010-01-07</th>\n",
       "      <td>8.485</td>\n",
       "      <td>20.619335</td>\n",
       "      <td>29.759218</td>\n",
       "    </tr>\n",
       "  </tbody>\n",
       "</table>\n",
       "</div>"
      ],
      "text/plain": [
       "            CMCSA          T         VZ\n",
       "Date                                   \n",
       "2009-12-31  8.430  21.170694  31.072264\n",
       "2010-01-04  8.485  21.586103  31.212946\n",
       "2010-01-05  8.370  21.480364  31.269218\n",
       "2010-01-06  8.310  20.853474  29.937416\n",
       "2010-01-07  8.485  20.619335  29.759218"
      ]
     },
     "execution_count": 3,
     "metadata": {},
     "output_type": "execute_result"
    }
   ],
   "source": [
    "stock_data.head()"
   ]
  },
  {
   "cell_type": "code",
   "execution_count": 4,
   "metadata": {},
   "outputs": [
    {
     "data": {
      "image/png": "[encoded data removed]",
      "text/plain": [
       "<Figure size 432x288 with 1 Axes>"
      ]
     },
     "metadata": {
      "needs_background": "light"
     },
     "output_type": "display_data"
    }
   ],
   "source": [
    "stock_data.plot()\n",
    "plt.title('Stock Prices')\n",
    "plt.xlabel('Date')\n",
    "plt.show()"
   ]
  },
  {
   "cell_type": "markdown",
   "metadata": {},
   "source": [
    "As we use log returns to calculate the mean and variance, we first need to have log returns:"
   ]
  },
  {
   "cell_type": "code",
   "execution_count": 5,
   "metadata": {},
   "outputs": [],
   "source": [
    "import numpy as np\n",
    "returns = np.log(stock_data/stock_data.shift(1))"
   ]
  },
  {
   "cell_type": "code",
   "execution_count": 6,
   "metadata": {},
   "outputs": [],
   "source": [
    "returns.dropna(inplace=True)"
   ]
  },
  {
   "cell_type": "code",
   "execution_count": 7,
   "metadata": {},
   "outputs": [
    {
     "data": {
      "text/html": [
       "<div>\n",
       "<style scoped>\n",
       "    .dataframe tbody tr th:only-of-type {\n",
       "        vertical-align: middle;\n",
       "    }\n",
       "\n",
       "    .dataframe tbody tr th {\n",
       "        vertical-align: top;\n",
       "    }\n",
       "\n",
       "    .dataframe thead th {\n",
       "        text-align: right;\n",
       "    }\n",
       "</style>\n",
       "<table border=\"1\" class=\"dataframe\">\n",
       "  <thead>\n",
       "    <tr style=\"text-align: right;\">\n",
       "      <th></th>\n",
       "      <th>CMCSA</th>\n",
       "      <th>T</th>\n",
       "      <th>VZ</th>\n",
       "    </tr>\n",
       "  </thead>\n",
       "  <tbody>\n",
       "    <tr>\n",
       "      <th>count</th>\n",
       "      <td>2581.000000</td>\n",
       "      <td>2581.000000</td>\n",
       "      <td>2581.000000</td>\n",
       "    </tr>\n",
       "    <tr>\n",
       "      <th>mean</th>\n",
       "      <td>0.000540</td>\n",
       "      <td>-0.000008</td>\n",
       "      <td>0.000219</td>\n",
       "    </tr>\n",
       "    <tr>\n",
       "      <th>std</th>\n",
       "      <td>0.014884</td>\n",
       "      <td>0.011999</td>\n",
       "      <td>0.011269</td>\n",
       "    </tr>\n",
       "    <tr>\n",
       "      <th>min</th>\n",
       "      <td>-0.087358</td>\n",
       "      <td>-0.096963</td>\n",
       "      <td>-0.068498</td>\n",
       "    </tr>\n",
       "    <tr>\n",
       "      <th>25%</th>\n",
       "      <td>-0.007174</td>\n",
       "      <td>-0.005546</td>\n",
       "      <td>-0.006022</td>\n",
       "    </tr>\n",
       "    <tr>\n",
       "      <th>50%</th>\n",
       "      <td>0.000809</td>\n",
       "      <td>0.000668</td>\n",
       "      <td>0.000564</td>\n",
       "    </tr>\n",
       "    <tr>\n",
       "      <th>75%</th>\n",
       "      <td>0.008578</td>\n",
       "      <td>0.006326</td>\n",
       "      <td>0.006409</td>\n",
       "    </tr>\n",
       "    <tr>\n",
       "      <th>max</th>\n",
       "      <td>0.118355</td>\n",
       "      <td>0.095513</td>\n",
       "      <td>0.073995</td>\n",
       "    </tr>\n",
       "  </tbody>\n",
       "</table>\n",
       "</div>"
      ],
      "text/plain": [
       "             CMCSA            T           VZ\n",
       "count  2581.000000  2581.000000  2581.000000\n",
       "mean      0.000540    -0.000008     0.000219\n",
       "std       0.014884     0.011999     0.011269\n",
       "min      -0.087358    -0.096963    -0.068498\n",
       "25%      -0.007174    -0.005546    -0.006022\n",
       "50%       0.000809     0.000668     0.000564\n",
       "75%       0.008578     0.006326     0.006409\n",
       "max       0.118355     0.095513     0.073995"
      ]
     },
     "execution_count": 7,
     "metadata": {},
     "output_type": "execute_result"
    }
   ],
   "source": [
    "returns.describe()"
   ]
  },
  {
   "cell_type": "markdown",
   "metadata": {},
   "source": [
    "In order to measure the portfolio performance, there are different measures out there. Of them, we will introduce `Sharpe` and `Treynor` ratios."
   ]
  },
  {
   "cell_type": "markdown",
   "metadata": {},
   "source": [
    "`Sharpe` ratio is a method developed to gauge the risk-return combinations. In the numerator of the formula, portfolio return is subtracted from risk free rate and therefore it is known as risk-adjusted method. Shortly, it tells that given the volatility how much extra return investor receives. The formula is as follows:"
   ]
  },
  {
   "cell_type": "markdown",
   "metadata": {},
   "source": [
    "$$\\text{Sharpe ratio}=\\frac{r_i-r_f}{\\sigma(r_i)}$$"
   ]
  },
  {
   "cell_type": "markdown",
   "metadata": {},
   "source": [
    "where $r_i$ is the $i^{th}$ stock return (or it can be portfolio return), $r_f$ is the risk free rate and finally $\\sigma(r_i)$ is the standard deviation of $i^{th}$ stock. "
   ]
  },
  {
   "cell_type": "markdown",
   "metadata": {},
   "source": [
    "`Treynor` ratio, on the other hand, shows given the level of systematic risk, how much return an investor has. The formula of Treynor ratio is:"
   ]
  },
  {
   "cell_type": "markdown",
   "metadata": {},
   "source": [
    "$$\\text{Treynor ratio}=\\frac{r_i-r_f}{\\beta_i}$$"
   ]
  },
  {
   "cell_type": "markdown",
   "metadata": {},
   "source": [
    "We will continue with Sharpe ratio. For the sake of simplicity, let us assume that risk free rate is zero."
   ]
  },
  {
   "cell_type": "markdown",
   "metadata": {},
   "source": [
    "## Portfolio Optimization via Optimization Algorithm"
   ]
  },
  {
   "cell_type": "markdown",
   "metadata": {},
   "source": [
    "In this part, we are going to apply mathematical optimization to find the optimum portfolio. Sharpe ratio is the metric that the optimization will be based on. Here are the steps to be followed in this optimization process:\n",
    "* Define the function as get_opt as pass in weights\n",
    "* Calculate the return, volatility, and Sharpe Ratio\n",
    "* Return an array of return, volatility, and the Sharpe Ratio"
   ]
  },
  {
   "cell_type": "markdown",
   "metadata": {},
   "source": [
    "As we derive the portfolio standard deviation, we see that covariance has an important role. So, we should have it along with the mean of the portfolio:"
   ]
  },
  {
   "cell_type": "code",
   "execution_count": 8,
   "metadata": {},
   "outputs": [
    {
     "data": {
      "text/plain": [
       "CMCSA    0.136017\n",
       "T       -0.002006\n",
       "VZ       0.055218\n",
       "dtype: float64"
      ]
     },
     "execution_count": 8,
     "metadata": {},
     "output_type": "execute_result"
    }
   ],
   "source": [
    "returns.mean() * 252# number of business days in a year"
   ]
  },
  {
   "cell_type": "code",
   "execution_count": 9,
   "metadata": {},
   "outputs": [
    {
     "data": {
      "text/html": [
       "<div>\n",
       "<style scoped>\n",
       "    .dataframe tbody tr th:only-of-type {\n",
       "        vertical-align: middle;\n",
       "    }\n",
       "\n",
       "    .dataframe tbody tr th {\n",
       "        vertical-align: top;\n",
       "    }\n",
       "\n",
       "    .dataframe thead th {\n",
       "        text-align: right;\n",
       "    }\n",
       "</style>\n",
       "<table border=\"1\" class=\"dataframe\">\n",
       "  <thead>\n",
       "    <tr style=\"text-align: right;\">\n",
       "      <th></th>\n",
       "      <th>CMCSA</th>\n",
       "      <th>T</th>\n",
       "      <th>VZ</th>\n",
       "    </tr>\n",
       "  </thead>\n",
       "  <tbody>\n",
       "    <tr>\n",
       "      <th>CMCSA</th>\n",
       "      <td>0.003517</td>\n",
       "      <td>0.001412</td>\n",
       "      <td>0.001177</td>\n",
       "    </tr>\n",
       "    <tr>\n",
       "      <th>T</th>\n",
       "      <td>0.001412</td>\n",
       "      <td>0.002286</td>\n",
       "      <td>0.001496</td>\n",
       "    </tr>\n",
       "    <tr>\n",
       "      <th>VZ</th>\n",
       "      <td>0.001177</td>\n",
       "      <td>0.001496</td>\n",
       "      <td>0.002016</td>\n",
       "    </tr>\n",
       "  </tbody>\n",
       "</table>\n",
       "</div>"
      ],
      "text/plain": [
       "          CMCSA         T        VZ\n",
       "CMCSA  0.003517  0.001412  0.001177\n",
       "T      0.001412  0.002286  0.001496\n",
       "VZ     0.001177  0.001496  0.002016"
      ]
     },
     "execution_count": 9,
     "metadata": {},
     "output_type": "execute_result"
    }
   ],
   "source": [
    "returns.cov() * np.sqrt(252)"
   ]
  },
  {
   "cell_type": "markdown",
   "metadata": {},
   "source": [
    "Let's get started with defining the function by passing the weights:"
   ]
  },
  {
   "cell_type": "code",
   "execution_count": 10,
   "metadata": {},
   "outputs": [],
   "source": [
    "def get_opt(weights):\n",
    "    weights = np.array(weights)\n",
    "    ret = np.sum(returns.mean() * weights) * 252\n",
    "    vol = np.sqrt(np.dot(weights.T, np.dot(returns.cov() * np.sqrt(252), weights)))\n",
    "    sharpe = ret / vol\n",
    "    return np.array([ret, vol, sharpe])"
   ]
  },
  {
   "cell_type": "markdown",
   "metadata": {},
   "source": [
    "We're then going to import the minimize optimization algorithm from `scipy`"
   ]
  },
  {
   "cell_type": "code",
   "execution_count": 11,
   "metadata": {},
   "outputs": [],
   "source": [
    "from scipy.optimize import minimize"
   ]
  },
  {
   "cell_type": "markdown",
   "metadata": {},
   "source": [
    "As we find the minimize sharpe ratio, we need to define it."
   ]
  },
  {
   "cell_type": "code",
   "execution_count": 12,
   "metadata": {},
   "outputs": [],
   "source": [
    "def neg_sharpe(weights):\n",
    "    return get_opt(weights)[2] * -1"
   ]
  },
  {
   "cell_type": "markdown",
   "metadata": {},
   "source": [
    "Let us now define the the constraints called `const_sum()`. Please note that our allocations need to add up to one."
   ]
  },
  {
   "cell_type": "markdown",
   "metadata": {},
   "source": [
    "$$\\Sigma_i \\omega_i=1$$"
   ]
  },
  {
   "cell_type": "markdown",
   "metadata": {},
   "source": [
    "$$\\Sigma_i \\omega_i-1=0$$"
   ]
  },
  {
   "cell_type": "code",
   "execution_count": 13,
   "metadata": {},
   "outputs": [],
   "source": [
    "def const_sum(weights):\n",
    "    return np.sum(weights)-1"
   ]
  },
  {
   "cell_type": "code",
   "execution_count": 14,
   "metadata": {},
   "outputs": [],
   "source": [
    "cons = ({'type':'eq', 'fun':const_sum})"
   ]
  },
  {
   "cell_type": "code",
   "execution_count": 15,
   "metadata": {},
   "outputs": [],
   "source": [
    "bounds = ((0, 1), (0, 1), (0, 1))"
   ]
  },
  {
   "cell_type": "markdown",
   "metadata": {},
   "source": [
    "As we have only one constraint, let's create a variable called `cons`, which is a tuple with a dictionary inside of it."
   ]
  },
  {
   "cell_type": "markdown",
   "metadata": {},
   "source": [
    "The dictionary takes in a first argument `type`: `eq`—this says it's going to be an equation type of constraint. The second argument is a function and we pass in the function itself `fun`:`const_sum`:"
   ]
  },
  {
   "cell_type": "code",
   "execution_count": 16,
   "metadata": {},
   "outputs": [],
   "source": [
    "init_guess = [0.33, 0.33, 0.34]"
   ]
  },
  {
   "cell_type": "code",
   "execution_count": 17,
   "metadata": {},
   "outputs": [],
   "source": [
    "opt_results = minimize(neg_sharpe, init_guess, method='SLSQP', bounds=bounds, constraints= cons)"
   ]
  },
  {
   "cell_type": "markdown",
   "metadata": {},
   "source": [
    "As a final step, we need to create an initial guess to start with, and usually, the best initial guess is just an even distribution:"
   ]
  },
  {
   "cell_type": "code",
   "execution_count": 18,
   "metadata": {},
   "outputs": [
    {
     "data": {
      "text/plain": [
       "     fun: -2.3061823338515723\n",
       "     jac: array([ 5.61773777e-05,  1.15949667e+00, -3.46213579e-04])\n",
       " message: 'Optimization terminated successfully'\n",
       "    nfev: 24\n",
       "     nit: 6\n",
       "    njev: 6\n",
       "  status: 0\n",
       " success: True\n",
       "       x: array([0.86031853, 0.        , 0.13968147])"
      ]
     },
     "execution_count": 18,
     "metadata": {},
     "output_type": "execute_result"
    }
   ],
   "source": [
    "opt_results"
   ]
  },
  {
   "cell_type": "code",
   "execution_count": 19,
   "metadata": {},
   "outputs": [
    {
     "data": {
      "text/plain": [
       "array([0.86031853, 0.        , 0.13968147])"
      ]
     },
     "execution_count": 19,
     "metadata": {},
     "output_type": "execute_result"
    }
   ],
   "source": [
    "opt_results.x"
   ]
  },
  {
   "cell_type": "markdown",
   "metadata": {},
   "source": [
    "For more information about `minimize` package, please see [this guide.](https://docs.scipy.org/doc/scipy/reference/generated/scipy.optimize.minimize.html)"
   ]
  },
  {
   "cell_type": "code",
   "execution_count": 20,
   "metadata": {},
   "outputs": [
    {
     "data": {
      "text/plain": [
       "array([0.12473068, 0.05408535, 2.30618233])"
      ]
     },
     "execution_count": 20,
     "metadata": {},
     "output_type": "execute_result"
    }
   ],
   "source": [
    "get_opt(opt_results.x)"
   ]
  },
  {
   "cell_type": "markdown",
   "metadata": {},
   "source": [
    "The optimal results are stored in the x array so we call `opt_results.x` and with get_opt(opt_results.x) we can see the optimal results we can get is a Sharpe Ratio of 2.3."
   ]
  }
 ],
 "metadata": {
  "kernelspec": {
   "display_name": "Python 3 (ipykernel)",
   "language": "python",
   "name": "python3"
  },
  "language_info": {
   "codemirror_mode": {
    "name": "ipython",
    "version": 3
   },
   "file_extension": ".py",
   "mimetype": "text/x-python",
   "name": "python",
   "nbconvert_exporter": "python",
   "pygments_lexer": "ipython3",
   "version": "3.9.7"
  },
  "latex_envs": {
   "LaTeX_envs_menu_present": true,
   "autoclose": false,
   "autocomplete": true,
   "bibliofile": "biblio.bib",
   "cite_by": "apalike",
   "current_citInitial": 1,
   "eqLabelWithNumbers": true,
   "eqNumInitial": 1,
   "hotkeys": {
    "equation": "Ctrl-E",
    "itemize": "Ctrl-I"
   },
   "labels_anchors": false,
   "latex_user_defs": false,
   "report_style_numbering": false,
   "user_envs_cfg": false
  },
  "toc": {
   "base_numbering": 1,
   "nav_menu": {},
   "number_sections": false,
   "sideBar": true,
   "skip_h1_title": false,
   "title_cell": "Table of Contents",
   "title_sidebar": "Contents",
   "toc_cell": false,
   "toc_position": {},
   "toc_section_display": true,
   "toc_window_display": false
  }
 },
 "nbformat": 4,
 "nbformat_minor": 4
}
